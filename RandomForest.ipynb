{
  "cells": [
    {
      "cell_type": "markdown",
      "metadata": {
        "id": "view-in-github",
        "colab_type": "text"
      },
      "source": [
        "<a href=\"https://colab.research.google.com/github/ArchisKulkarni002/RansomwareMLProject/blob/main/RandomForest.ipynb\" target=\"_parent\"><img src=\"https://colab.research.google.com/assets/colab-badge.svg\" alt=\"Open In Colab\"/></a>"
      ]
    },
    {
      "cell_type": "code",
      "execution_count": null,
      "metadata": {
        "id": "HuCrGsdgiQb9"
      },
      "outputs": [],
      "source": [
        "import numpy as np\n",
        "import pandas as pd\n",
        "import warnings\n",
        "from IPython.display import display, HTML\n",
        "from collections import Counter\n",
        "\n",
        "# Suppress all warnings\n",
        "warnings.simplefilter(\"ignore\")\n",
        "pd.set_option('display.max_columns', None)\n",
        "# pd.set_option('display.max_seq_items', None)\n",
        "pd.set_option('display.expand_frame_repr', False)"
      ]
    },
    {
      "cell_type": "code",
      "execution_count": null,
      "metadata": {
        "colab": {
          "base_uri": "https://localhost:8080/"
        },
        "id": "9kL6SnSVi9ZV",
        "outputId": "0558b2c7-19ad-4264-d842-507b0d9b6cec"
      },
      "outputs": [
        {
          "name": "stdout",
          "output_type": "stream",
          "text": [
            "Drive already mounted at /content/drive; to attempt to forcibly remount, call drive.mount(\"/content/drive\", force_remount=True).\n"
          ]
        }
      ],
      "source": [
        "from google.colab import drive\n",
        "drive.mount('/content/drive')"
      ]
    },
    {
      "cell_type": "code",
      "execution_count": null,
      "metadata": {
        "id": "Gl4YwX5plWqP"
      },
      "outputs": [],
      "source": [
        "train_df_path = '/content/drive/MyDrive/MLP/transformed_train_df.csv'\n",
        "test_df_path = '/content/drive/MyDrive/MLP/transformed_test_df.csv'\n",
        "train_df = pd.read_csv(train_df_path)\n",
        "test_df = pd.read_csv(test_df_path)"
      ]
    },
    {
      "cell_type": "code",
      "execution_count": null,
      "metadata": {
        "id": "bgyYnbccli5d"
      },
      "outputs": [],
      "source": [
        "class Node:\n",
        "  def __init__(self, feature=None, threshold=None, left=None, right=None, *, value=None):\n",
        "    self.feature = feature\n",
        "    self.threshold = threshold\n",
        "    self.left = left\n",
        "    self.right = right\n",
        "    self.value = value\n",
        "\n",
        "  def is_leaf_node(self):\n",
        "    return self.value is not None\n"
      ]
    },
    {
      "cell_type": "code",
      "execution_count": null,
      "metadata": {
        "id": "hQ5znF6tm2Km"
      },
      "outputs": [],
      "source": [
        "class DecisionTree:\n",
        "  def __init__(self, min_samples_split=2, max_depth=100, n_features=None):\n",
        "    self.min_samples_split = min_samples_split\n",
        "    self.max_depth = max_depth\n",
        "    self.n_features = n_features\n",
        "    self.root = None\n",
        "\n",
        "  def fit(self, X, y):\n",
        "    self.n_features = X.shape[1] if not self.n_features else min(X.shape[1], self.n_features)\n",
        "    self.root = self._grow_tree(X, y)\n",
        "\n",
        "  def _grow_tree(self, X, y, depth=0):\n",
        "    n_samples, n_feats = X.shape\n",
        "    n_labels = len(np.unique(y))\n",
        "\n",
        "    #check the stopping criteria\n",
        "    if (depth >= self.max_depth or n_labels == 1 or n_samples < self.min_samples_split):\n",
        "      leaf_value= self._most_common_label(y)\n",
        "      return Node(value=leaf_value)\n",
        "\n",
        "    feat_idxs = np.random.choice(n_feats, self.n_features, replace=False)\n",
        "\n",
        "    #find the best split\n",
        "    best_feature, best_thresh = self._best_split(X, y, feat_idxs)\n",
        "    if best_feature == None and best_thresh == None :\n",
        "      return Node(value=self._most_common_label(y))\n",
        "\n",
        "    #create child nodes\n",
        "    left_idxs, right_idxs = self._split(X[:, best_feature], best_thresh)\n",
        "    left = self._grow_tree(X[left_idxs, :], y[left_idxs], depth+1)\n",
        "    right = self._grow_tree(X[right_idxs, :], y[right_idxs], depth+1)\n",
        "    return Node(best_feature, best_thresh, left, right)\n",
        "\n",
        "  def _best_split(self, X, y, feat_idxs):\n",
        "    best_gain = -1\n",
        "    split_idx, split_thresh = None, None\n",
        "\n",
        "    for feat_idx in feat_idxs:\n",
        "      X_column = X[:, feat_idx]\n",
        "      thresholds = np.unique(X_column) #list of unique values\n",
        "      if len(thresholds) > 40:\n",
        "        #for faster split, only check 40 values at regular interval\n",
        "        thresholds = np.linspace(np.min(X_column), np.max(X_column), 40)\n",
        "\n",
        "      for thr in thresholds:\n",
        "        #calculate information gain\n",
        "        gain = self._information_gain(y, X_column, thr)\n",
        "\n",
        "        if gain > best_gain:\n",
        "          best_gain = gain\n",
        "          split_idx = feat_idx\n",
        "          split_thresh = thr\n",
        "\n",
        "    return split_idx, split_thresh\n",
        "\n",
        "  def _information_gain(self, y, X_column, threshold):\n",
        "    #parent entropy\n",
        "    parent_entropy = self._entropy(y)\n",
        "\n",
        "    #create children\n",
        "    left_idxs, right_idxs = self._split(X_column, threshold)\n",
        "\n",
        "    if len(left_idxs) == 0 or len(right_idxs) == 0:\n",
        "      return -2\n",
        "\n",
        "    #weighted avg entropy of children\n",
        "    n = len(y)\n",
        "    n_l, n_r = len(left_idxs), len(right_idxs)\n",
        "    e_l, e_r = self._entropy(y[left_idxs]), self._entropy(y[right_idxs])\n",
        "    child_entropy = (n_l/n) * e_l + (n_r/n) * e_r\n",
        "\n",
        "    information_gain = parent_entropy - child_entropy\n",
        "    return information_gain\n",
        "\n",
        "  def _split(self, X_column, split_thresh):\n",
        "    left_idxs = np.argwhere(X_column <= split_thresh).flatten()\n",
        "    right_idxs = np.argwhere(X_column > split_thresh).flatten()\n",
        "    return left_idxs, right_idxs\n",
        "\n",
        "  def _entropy(self, y):\n",
        "    hist = np.bincount(y)\n",
        "    ps = hist / len(y)\n",
        "    return -np.sum([p * np.log2(p) for p in ps if p > 0])\n",
        "\n",
        "  def _most_common_label(self, y):\n",
        "    counter = Counter(y)\n",
        "    value = counter.most_common(1)[0][0]\n",
        "    return value\n",
        "\n",
        "  def predict(self, X):\n",
        "    return np.array([self._traverse_tree(x, self.root) for x in X])\n",
        "\n",
        "  def _traverse_tree(self, x, node):\n",
        "    if node.is_leaf_node():\n",
        "      return node.value\n",
        "\n",
        "    if x[node.feature] <= node.threshold:\n",
        "      return self._traverse_tree(x, node.left)\n",
        "    return self._traverse_tree(x, node.right)\n",
        "\n"
      ]
    },
    {
      "cell_type": "code",
      "execution_count": null,
      "metadata": {
        "colab": {
          "base_uri": "https://localhost:8080/"
        },
        "id": "sJK6J5tfuY6d",
        "outputId": "ffc54b3a-2f58-4f58-9605-f70fc642c52f"
      },
      "outputs": [
        {
          "name": "stdout",
          "output_type": "stream",
          "text": [
            "0              Benign\n",
            "1              Benign\n",
            "2              Benign\n",
            "3              Benign\n",
            "4              Benign\n",
            "             ...     \n",
            "313622    WannaLocker\n",
            "313623    WannaLocker\n",
            "313624    WannaLocker\n",
            "313625    WannaLocker\n",
            "313626    WannaLocker\n",
            "Name: Label, Length: 313627, dtype: object\n",
            "\n",
            "Mapping: {'Benign': 0, 'Charger': 1, 'Jisut': 2, 'Koler': 3, 'Lockerpin': 4, 'Pletor': 5, 'PornDroid': 6, 'RansomBO': 7, 'Simplocker': 8, 'SVpeng': 9, 'WannaLocker': 10}\n"
          ]
        }
      ],
      "source": [
        "# Create an explicit mapping\n",
        "label_mapping = {label: idx for idx, label in enumerate(y_train.unique())}\n",
        "\n",
        "# Apply the encoding to the 'Label' column\n",
        "\n",
        "\n",
        "# Print the DataFrame\n",
        "print(y_train)\n",
        "print(\"\\nMapping:\", label_mapping)"
      ]
    },
    {
      "cell_type": "code",
      "execution_count": null,
      "metadata": {
        "id": "GDOojNPiqso-"
      },
      "outputs": [],
      "source": [
        "x_train = train_df.drop('Label', axis=1)\n",
        "y_train = train_df['Label']\n",
        "y_train = y_train.map(label_mapping)\n",
        "x_test = test_df.drop('Label', axis=1)\n",
        "y_test = test_df['Label']\n",
        "y_test = y_test.map(label_mapping).to_numpy()"
      ]
    },
    {
      "cell_type": "code",
      "execution_count": null,
      "metadata": {
        "colab": {
          "base_uri": "https://localhost:8080/"
        },
        "id": "W6RtllGhsP0K",
        "outputId": "200ed8bd-3880-490b-c1d5-e3e48ad45408"
      },
      "outputs": [
        {
          "name": "stdout",
          "output_type": "stream",
          "text": [
            "FAMD_Component_1     float64\n",
            "FAMD_Component_2     float64\n",
            "FAMD_Component_3     float64\n",
            "FAMD_Component_4     float64\n",
            "FAMD_Component_5     float64\n",
            "FAMD_Component_6     float64\n",
            "FAMD_Component_7     float64\n",
            "FAMD_Component_8     float64\n",
            "FAMD_Component_9     float64\n",
            "FAMD_Component_10    float64\n",
            "FAMD_Component_11    float64\n",
            "FAMD_Component_12    float64\n",
            "FAMD_Component_13    float64\n",
            "FAMD_Component_14    float64\n",
            "FAMD_Component_15    float64\n",
            "FAMD_Component_16    float64\n",
            "FAMD_Component_17    float64\n",
            "FAMD_Component_18    float64\n",
            "FAMD_Component_19    float64\n",
            "FAMD_Component_20    float64\n",
            "dtype: object\n"
          ]
        }
      ],
      "source": [
        "print(x_train.dtypes)"
      ]
    },
    {
      "cell_type": "code",
      "execution_count": null,
      "metadata": {
        "colab": {
          "base_uri": "https://localhost:8080/"
        },
        "id": "bmSC2fr3kkEt",
        "outputId": "86568b96-1a2a-4e7b-87eb-8416e7a10486"
      },
      "outputs": [
        {
          "name": "stdout",
          "output_type": "stream",
          "text": [
            "(3136, 20) (3136,)\n"
          ]
        }
      ],
      "source": [
        "sampled_indices = x_train.sample(frac=0.01, random_state=42).index\n",
        "x_sampled = x_train.loc[sampled_indices].to_numpy()\n",
        "y_sampled = y_train.loc[sampled_indices].to_numpy()\n",
        "\n",
        "print(x_sampled.shape, y_sampled.shape)"
      ]
    },
    {
      "cell_type": "code",
      "execution_count": null,
      "metadata": {
        "id": "_74Z7BG4rUbh"
      },
      "outputs": [],
      "source": [
        "dt = DecisionTree(min_samples_split = 5, max_depth = 17)\n",
        "dt.fit(x_sampled,y_sampled)\n",
        "predictions = dt.predict(x_test.values)"
      ]
    },
    {
      "cell_type": "code",
      "execution_count": null,
      "metadata": {
        "colab": {
          "base_uri": "https://localhost:8080/"
        },
        "id": "DWqivOfZoIFw",
        "outputId": "3f851560-553d-4d9f-e3de-6ad5a35fa407"
      },
      "outputs": [
        {
          "name": "stdout",
          "output_type": "stream",
          "text": [
            "0.08004387363373168\n"
          ]
        }
      ],
      "source": [
        "def accuracy(y_test, y_pred):\n",
        "  return np.sum(y_test == y_pred) / len(y_test)\n",
        "\n",
        "y_test = y_test.map(label_mapping).to_numpy()\n",
        "acc = accuracy(y_test, predictions)\n",
        "print(acc)"
      ]
    },
    {
      "cell_type": "code",
      "execution_count": null,
      "metadata": {
        "id": "O8MZoLcjOEVv"
      },
      "outputs": [],
      "source": [
        "class RandomForest:\n",
        "    def __init__(self, n_trees=10, max_depth=10, min_samples_split=2, n_feature=None):\n",
        "        self.n_trees = n_trees\n",
        "        self.max_depth=max_depth\n",
        "        self.min_samples_split=min_samples_split\n",
        "        self.n_features=n_feature\n",
        "        self.trees = []\n",
        "\n",
        "    def fit(self, X, y):\n",
        "        self.trees = []\n",
        "        for _ in range(self.n_trees):\n",
        "            tree = DecisionTree(max_depth=self.max_depth,\n",
        "                            min_samples_split=self.min_samples_split,\n",
        "                            n_features=self.n_features)\n",
        "            X_sample, y_sample = self._bootstrap_samples(X, y)\n",
        "            tree.fit(X_sample, y_sample)\n",
        "            self.trees.append(tree)\n",
        "\n",
        "    def _bootstrap_samples(self, X, y):\n",
        "        n_samples = X.shape[0]\n",
        "        idxs = np.random.choice(n_samples, int(0.75 * n_samples), replace=True)\n",
        "        return X[idxs], y[idxs]\n",
        "\n",
        "    def _most_common_label(self, y):\n",
        "        counter = Counter(y)\n",
        "        most_common = counter.most_common(1)[0][0]\n",
        "        return most_common\n",
        "\n",
        "    def predict(self, X):\n",
        "        predictions = np.array([tree.predict(X) for tree in self.trees])\n",
        "        tree_preds = np.swapaxes(predictions, 0, 1)\n",
        "        predictions = np.array([self._most_common_label(pred) for pred in tree_preds])\n",
        "        return predictions"
      ]
    },
    {
      "cell_type": "code",
      "execution_count": null,
      "metadata": {
        "colab": {
          "background_save": true
        },
        "id": "CU0c7SlHOGBD",
        "outputId": "d40d29c2-03a9-43c6-ef47-1becb94962bf"
      },
      "outputs": [
        {
          "name": "stdout",
          "output_type": "stream",
          "text": [
            "[9 7 0 ... 9 9 9]\n",
            "0.12644279209764434\n"
          ]
        }
      ],
      "source": [
        "clf = RandomForest(n_trees=100, max_depth=14, min_samples_split=5, n_feature=5)\n",
        "clf.fit(x_train.to_numpy(), y_train.to_numpy())\n",
        "predictions = clf.predict(x_test.values)\n",
        "print(predictions)\n",
        "acc =  accuracy(y_test, predictions)\n",
        "print(acc)"
      ]
    }
  ],
  "metadata": {
    "colab": {
      "provenance": [],
      "authorship_tag": "ABX9TyPMBpw9v6jS3lqLtFClDFm1",
      "include_colab_link": true
    },
    "kernelspec": {
      "display_name": "Python 3",
      "name": "python3"
    },
    "language_info": {
      "name": "python"
    }
  },
  "nbformat": 4,
  "nbformat_minor": 0
}