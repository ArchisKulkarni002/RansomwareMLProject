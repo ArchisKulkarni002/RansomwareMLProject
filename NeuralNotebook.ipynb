{
 "cells": [
  {
   "cell_type": "code",
   "execution_count": 1,
   "id": "9598da8d-b641-4518-80b2-b9cb4af15ccc",
   "metadata": {},
   "outputs": [],
   "source": [
    "%load_ext autoreload\n",
    "%autoreload 2"
   ]
  },
  {
   "cell_type": "code",
   "execution_count": 2,
   "id": "df8a89a1-9c2b-48a0-a763-6b6adacfdfc0",
   "metadata": {},
   "outputs": [],
   "source": [
    "from models.Neural_Network_v2 import *\n",
    "import pandas as pd\n",
    "import matplotlib.pyplot as plt"
   ]
  },
  {
   "cell_type": "code",
   "execution_count": 3,
   "id": "96ea00e6-d108-431e-89c2-89218afc5d9a",
   "metadata": {},
   "outputs": [
    {
     "name": "stdout",
     "output_type": "stream",
     "text": [
      "Original dataset size:  (313627, 21)\n",
      "Sampled dataset size:  (15680, 21)\n",
      "Number of unique values in the 'Label' column: 11\n"
     ]
    }
   ],
   "source": [
    "dataset = pd.read_csv(\"Datasets/transformed_train_df.csv\")\n",
    "print(\"Original dataset size: \",dataset.shape)\n",
    "\n",
    "dataset['Label'], uniques = pd.factorize(dataset['Label'])\n",
    "# print(dataset.head())\n",
    "sampled_df = dataset.groupby('Label').apply(lambda x: x.sample(frac=0.05, random_state=42)).reset_index(drop=True)\n",
    "print(\"Sampled dataset size: \",sampled_df.shape)\n",
    "\n",
    "print(f\"Number of unique values in the 'Label' column: {dataset['Label'].nunique()}\")"
   ]
  },
  {
   "cell_type": "code",
   "execution_count": 4,
   "id": "e9e052df-cee6-44b7-b286-64bc49c6332b",
   "metadata": {},
   "outputs": [
    {
     "name": "stdout",
     "output_type": "stream",
     "text": [
      "Sampled X size:  (15680, 20)\n",
      "Sampled Y size:  (15680,)\n",
      "Sampled X head:     FAMD_Component_1  FAMD_Component_2  FAMD_Component_3  FAMD_Component_4  \\\n",
      "0          1.106166         -1.091306          7.027377          4.311347   \n",
      "1          0.954526         -1.033375         -0.491732         -1.109583   \n",
      "2          0.643954         -1.227613         -5.401073         -3.618718   \n",
      "3          1.094598         -1.110412         -1.769525         -2.175249   \n",
      "4          1.108363         -1.127580         -1.382770         -1.992035   \n",
      "\n",
      "   FAMD_Component_5  FAMD_Component_6  FAMD_Component_7  FAMD_Component_8  \\\n",
      "0         -1.536011          5.063335          1.261412         -6.509035   \n",
      "1         -0.145088         -2.437912         -1.213178         -0.716131   \n",
      "2         -5.784012          4.060536          1.793040          0.950605   \n",
      "3         -2.229234         -2.066392         -1.881398         -1.683342   \n",
      "4         -2.401953         -1.963375         -2.065242         -1.428270   \n",
      "\n",
      "   FAMD_Component_9  FAMD_Component_10  FAMD_Component_11  FAMD_Component_12  \\\n",
      "0          0.796605           0.252953          -1.310674          -9.338591   \n",
      "1          0.721932           0.676528           0.543311           0.383079   \n",
      "2         -0.679108          -0.640781          -1.085242          -0.770276   \n",
      "3         -1.242089          -1.160573          -2.682657          -0.051509   \n",
      "4         -1.024137          -0.962429          -2.563813          -0.137721   \n",
      "\n",
      "   FAMD_Component_13  FAMD_Component_14  FAMD_Component_15  FAMD_Component_16  \\\n",
      "0           4.066158          -0.740914          -1.874069           1.661240   \n",
      "1          -0.121635          -1.307646          -1.054287           0.532427   \n",
      "2          -0.226735           0.009618           0.620231          -0.238770   \n",
      "3          -0.378855           0.452815           0.184654          -0.219885   \n",
      "4          -0.364098           0.801758           0.634590          -0.204520   \n",
      "\n",
      "   FAMD_Component_17  FAMD_Component_18  FAMD_Component_19  FAMD_Component_20  \n",
      "0           1.850363          -0.635276          -1.163607          -0.353805  \n",
      "1          -0.700994           0.116519          -0.513556           0.904115  \n",
      "2           0.250449          -0.438599           0.082510           0.002681  \n",
      "3           0.423890          -0.045447          -0.029268          -0.003384  \n",
      "4           0.677624          -0.575907           0.195839          -0.023418  \n",
      "Sampled Y head:  0    0\n",
      "1    0\n",
      "2    0\n",
      "3    0\n",
      "4    0\n",
      "Name: Label, dtype: int64\n"
     ]
    }
   ],
   "source": [
    "# split the dataset\n",
    "X_train = sampled_df.iloc[:,:20]\n",
    "Y_train = sampled_df[\"Label\"]\n",
    "print(\"Sampled X size: \",X_train.shape)\n",
    "print(\"Sampled Y size: \",Y_train.shape)\n",
    "\n",
    "print(\"Sampled X head: \",X_train.head())\n",
    "print(\"Sampled Y head: \",Y_train.head())\n",
    "\n",
    "X_train = X_train.to_numpy()\n",
    "Y_train = Y_train.to_numpy()"
   ]
  },
  {
   "cell_type": "code",
   "execution_count": 13,
   "id": "f3512754-8960-45e7-b927-969057ae7f1c",
   "metadata": {},
   "outputs": [],
   "source": [
    "# lets make our NN model layers\n",
    "noIterations=15680\n",
    "noOfEpochs=10\n",
    "learningRate = 0.001\n",
    "\n",
    "layer1_noNeurons = 1024\n",
    "layer2_noNeurons = 512\n",
    "layer3_noNeurons = 128\n",
    "\n",
    "layer1 = Layer(20,layer1_noNeurons,activation='relu', learning_rate=learningRate)\n",
    "layer2 = Layer(layer1_noNeurons,layer2_noNeurons,activation='relu', learning_rate=learningRate)\n",
    "layer3 = Layer(layer2_noNeurons,layer3_noNeurons,activation='relu', learning_rate=learningRate)\n",
    "layer4 = Layer(layer3_noNeurons,11,activation='softmax', learning_rate=learningRate)\n",
    "\n",
    "\n",
    "errors = np.empty(noIterations)\n",
    "final_errors = np.empty(noOfEpochs)\n"
   ]
  },
  {
   "cell_type": "code",
   "execution_count": 14,
   "id": "b59a5530-a823-480b-a6bc-0fd015c2a818",
   "metadata": {},
   "outputs": [
    {
     "name": "stdout",
     "output_type": "stream",
     "text": [
      "Completed 0 epochs, average error: 14.269642073961426\n",
      "Completed 1 epochs, average error: 15.69056731084261\n"
     ]
    },
    {
     "ename": "KeyboardInterrupt",
     "evalue": "",
     "output_type": "error",
     "traceback": [
      "\u001b[1;31m---------------------------------------------------------------------------\u001b[0m",
      "\u001b[1;31mKeyboardInterrupt\u001b[0m                         Traceback (most recent call last)",
      "Cell \u001b[1;32mIn[14], line 24\u001b[0m\n\u001b[0;32m     22\u001b[0m layer4\u001b[38;5;241m.\u001b[39mbackprop(cross_entropy_error(layer4\u001b[38;5;241m.\u001b[39mout, one_hot, derivative\u001b[38;5;241m=\u001b[39m\u001b[38;5;28;01mTrue\u001b[39;00m))\n\u001b[0;32m     23\u001b[0m layer3\u001b[38;5;241m.\u001b[39mbackprop(layer4\u001b[38;5;241m.\u001b[39mdelip)\n\u001b[1;32m---> 24\u001b[0m \u001b[43mlayer2\u001b[49m\u001b[38;5;241;43m.\u001b[39;49m\u001b[43mbackprop\u001b[49m\u001b[43m(\u001b[49m\u001b[43mlayer3\u001b[49m\u001b[38;5;241;43m.\u001b[39;49m\u001b[43mdelip\u001b[49m\u001b[43m)\u001b[49m\n\u001b[0;32m     25\u001b[0m layer1\u001b[38;5;241m.\u001b[39mbackprop(layer2\u001b[38;5;241m.\u001b[39mdelip)\n\u001b[0;32m     27\u001b[0m \u001b[38;5;66;03m# Record error\u001b[39;00m\n",
      "File \u001b[1;32m~\\Documents\\Development\\RansomwareMLProject\\models\\Neural_Network_v2.py:116\u001b[0m, in \u001b[0;36mLayer.backprop\u001b[1;34m(self, error, a)\u001b[0m\n\u001b[0;32m    114\u001b[0m \u001b[38;5;28mself\u001b[39m\u001b[38;5;241m.\u001b[39mdelbi \u001b[38;5;241m=\u001b[39m error \u001b[38;5;241m*\u001b[39m \u001b[38;5;28mself\u001b[39m\u001b[38;5;241m.\u001b[39mderact                \u001b[38;5;66;03m#change in bias\u001b[39;00m\n\u001b[0;32m    115\u001b[0m \u001b[38;5;28mself\u001b[39m\u001b[38;5;241m.\u001b[39mdelwe \u001b[38;5;241m=\u001b[39m np\u001b[38;5;241m.\u001b[39marray([\u001b[38;5;28mself\u001b[39m\u001b[38;5;241m.\u001b[39minput])\u001b[38;5;241m.\u001b[39mT\u001b[38;5;241m*\u001b[39m\u001b[38;5;28mself\u001b[39m\u001b[38;5;241m.\u001b[39mdelbi                \u001b[38;5;66;03m#change in weights\u001b[39;00m\n\u001b[1;32m--> 116\u001b[0m \u001b[38;5;28mself\u001b[39m\u001b[38;5;241m.\u001b[39mdelip \u001b[38;5;241m=\u001b[39m \u001b[43mnp\u001b[49m\u001b[38;5;241;43m.\u001b[39;49m\u001b[43mdot\u001b[49m\u001b[43m(\u001b[49m\u001b[38;5;28;43mself\u001b[39;49m\u001b[38;5;241;43m.\u001b[39;49m\u001b[43mdelbi\u001b[49m\u001b[43m,\u001b[49m\u001b[38;5;28;43mself\u001b[39;49m\u001b[38;5;241;43m.\u001b[39;49m\u001b[43mWe\u001b[49m\u001b[43m)\u001b[49m                 \u001b[38;5;66;03m#error for previous layer\u001b[39;00m\n\u001b[0;32m    117\u001b[0m \u001b[38;5;28mself\u001b[39m\u001b[38;5;241m.\u001b[39mWe \u001b[38;5;241m=\u001b[39m np\u001b[38;5;241m.\u001b[39madd(\u001b[38;5;28mself\u001b[39m\u001b[38;5;241m.\u001b[39mWe\u001b[38;5;241m.\u001b[39mT,learningRate\u001b[38;5;241m*\u001b[39m\u001b[38;5;28mself\u001b[39m\u001b[38;5;241m.\u001b[39mdelwe)                 \u001b[38;5;66;03m#change weights\u001b[39;00m\n\u001b[0;32m    118\u001b[0m \u001b[38;5;28mself\u001b[39m\u001b[38;5;241m.\u001b[39mBi \u001b[38;5;241m=\u001b[39m np\u001b[38;5;241m.\u001b[39madd(\u001b[38;5;28mself\u001b[39m\u001b[38;5;241m.\u001b[39mBi, learningRate\u001b[38;5;241m*\u001b[39m\u001b[38;5;28mself\u001b[39m\u001b[38;5;241m.\u001b[39mdelbi)              \u001b[38;5;66;03m#change biases\u001b[39;00m\n",
      "\u001b[1;31mKeyboardInterrupt\u001b[0m: "
     ]
    }
   ],
   "source": [
    "# Main training loop\n",
    "for j in range(noOfEpochs):\n",
    "    errors = np.empty(noIterations)\n",
    "    indices = np.arange(noIterations)\n",
    "    np.random.shuffle(indices)\n",
    "    for index in indices:\n",
    "        # Randomly select a training sample\n",
    "        # index = np.random.choice(X_train.shape[0], 1)\n",
    "        input_sample = np.squeeze(X_train[index])\n",
    "        # input_sample = X_train[index]\n",
    "        target_sample = Y_train[index]\n",
    "        one_hot = np.zeros(11)\n",
    "        one_hot[target_sample] = 1\n",
    "    \n",
    "        # Forward propagation\n",
    "        layer1.train(input_sample)\n",
    "        layer2.train(layer1.out)\n",
    "        layer3.train(layer2.out)\n",
    "        layer4.train(layer3.out)\n",
    "    \n",
    "        # Backpropagation\n",
    "        layer4.backprop(cross_entropy_error(layer4.out, one_hot, derivative=True))\n",
    "        layer3.backprop(layer4.delip)\n",
    "        layer2.backprop(layer3.delip)\n",
    "        layer1.backprop(layer2.delip)\n",
    "    \n",
    "        # Record error\n",
    "        errors[index] = cross_entropy_error(layer4.out, one_hot)\n",
    "    \n",
    "    final_errors[j]=np.mean(errors)\n",
    "    print(f\"Completed {j} epochs, average error: {final_errors[j]}\")\n",
    "            # print(f\"Completed {i} steps, Current Error: {np.mean(errors[i])}\")"
   ]
  },
  {
   "cell_type": "code",
   "execution_count": 12,
   "id": "5f7de075-cfce-4414-b7a6-2bfac65c0c26",
   "metadata": {},
   "outputs": [
    {
     "data": {
      "image/png": "[encoded data removed]",
      "text/plain": [
       "<Figure size 1000x600 with 1 Axes>"
      ]
     },
     "metadata": {},
     "output_type": "display_data"
    }
   ],
   "source": [
    "# Calculate mean error for each iteration\n",
    "# mean_errors = final_errors.mean(axis=0)  # Averaging over all output neurons\n",
    "\n",
    "# Plot the errors\n",
    "plt.figure(figsize=(10, 6))\n",
    "plt.plot(final_errors, label=\"Mean Error\")\n",
    "plt.title(\"Training Error Over Iterations\")\n",
    "plt.xlabel(\"Iteration\")\n",
    "plt.ylabel(\"Mean Error\")\n",
    "plt.legend()\n",
    "plt.grid()\n",
    "plt.show()"
   ]
  },
  {
   "cell_type": "code",
   "execution_count": null,
   "id": "4043993e-8069-43e1-9100-b145f1e21744",
   "metadata": {},
   "outputs": [],
   "source": [
    "# Testing function that takes network input and predicts output\n",
    "def forward(input_data):\n",
    "    layer1.train(input_data)\n",
    "    layer2.train(layer1.out)\n",
    "    layer3.train(layer2.out)\n",
    "    layer4.train(layer3.out)\n",
    "    return layer4.out"
   ]
  },
  {
   "cell_type": "code",
   "execution_count": null,
   "id": "650c0eb9-84cd-4791-8593-4b782257d3b7",
   "metadata": {},
   "outputs": [],
   "source": [
    "# Testing loop\n",
    "print(\"\\nTesting Predictions:\")\n",
    "for _ in range(20):\n",
    "    index = np.random.choice(X_train.shape[0], 1)\n",
    "    test_sample = np.squeeze(X_train[index])\n",
    "    prediction = forward(test_sample)\n",
    "    print(\"Input:\", test_sample)\n",
    "    print(\"Predicted Output:\", prediction)\n",
    "    print(\"Predicted Class:\", np.argmax(prediction), \"\\n\")\n"
   ]
  },
  {
   "cell_type": "code",
   "execution_count": null,
   "id": "f3221aac-347d-404f-8d44-d30c759adf9f",
   "metadata": {},
   "outputs": [],
   "source": [
    "# Save the parameters of the network and its training error\n",
    "layer1.save('layer1')\n",
    "layer2.save('layer2')\n",
    "layer3.save('layer3')\n",
    "layer4.save('layer4')\n",
    "np.save('error.npy', errors)"
   ]
  }
 ],
 "metadata": {
  "kernelspec": {
   "display_name": "Python 3 (ipykernel)",
   "language": "python",
   "name": "python3"
  },
  "language_info": {
   "codemirror_mode": {
    "name": "ipython",
    "version": 3
   },
   "file_extension": ".py",
   "mimetype": "text/x-python",
   "name": "python",
   "nbconvert_exporter": "python",
   "pygments_lexer": "ipython3",
   "version": "3.11.4"
  }
 },
 "nbformat": 4,
 "nbformat_minor": 5
}
