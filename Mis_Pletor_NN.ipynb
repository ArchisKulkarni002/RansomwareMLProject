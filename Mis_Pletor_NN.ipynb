{
 "cells": [
  {
   "cell_type": "code",
   "execution_count": 1,
   "metadata": {
    "colab": {
     "base_uri": "https://localhost:8080/"
    },
    "executionInfo": {
     "elapsed": 20464,
     "status": "ok",
     "timestamp": 1733910415573,
     "user": {
      "displayName": "Archis Kulkarni",
      "userId": "16170159291860624587"
     },
     "user_tz": -330
    },
    "id": "PHoL7ct7GmzX",
    "outputId": "de4c28ce-c929-4a1a-fd7d-7109bdf35f40"
   },
   "outputs": [
    {
     "ename": "ModuleNotFoundError",
     "evalue": "No module named 'google.colab'",
     "output_type": "error",
     "traceback": [
      "\u001b[1;31m---------------------------------------------------------------------------\u001b[0m",
      "\u001b[1;31mModuleNotFoundError\u001b[0m                       Traceback (most recent call last)",
      "Cell \u001b[1;32mIn[1], line 1\u001b[0m\n\u001b[1;32m----> 1\u001b[0m \u001b[38;5;28;01mfrom\u001b[39;00m \u001b[38;5;21;01mgoogle\u001b[39;00m\u001b[38;5;21;01m.\u001b[39;00m\u001b[38;5;21;01mcolab\u001b[39;00m \u001b[38;5;28;01mimport\u001b[39;00m drive\n\u001b[0;32m      2\u001b[0m drive\u001b[38;5;241m.\u001b[39mmount(\u001b[38;5;124m'\u001b[39m\u001b[38;5;124m/content/drive\u001b[39m\u001b[38;5;124m'\u001b[39m)\n",
      "\u001b[1;31mModuleNotFoundError\u001b[0m: No module named 'google.colab'"
     ]
    }
   ],
   "source": [
    "from google.colab import drive\n",
    "drive.mount('/content/drive')"
   ]
  },
  {
   "cell_type": "code",
   "execution_count": 1,
   "metadata": {
    "executionInfo": {
     "elapsed": 8862,
     "status": "ok",
     "timestamp": 1733910427030,
     "user": {
      "displayName": "Archis Kulkarni",
      "userId": "16170159291860624587"
     },
     "user_tz": -330
    },
    "id": "Ad16UDrvHDaW",
    "scrolled": true
   },
   "outputs": [],
   "source": [
    "import numpy as np\n",
    "import pandas as pd\n",
    "import matplotlib.pyplot as plt\n",
    "import tensorflow as tf\n",
    "from tensorflow.keras.models import Sequential\n",
    "from tensorflow.keras.layers import Dense, Dropout\n",
    "from tensorflow.keras.utils import to_categorical\n",
    "from tensorflow.keras.callbacks import ReduceLROnPlateau,ModelCheckpoint,CSVLogger,TensorBoard\n",
    "from tensorflow.keras.initializers import HeNormal\n",
    "from tensorflow.keras.optimizers import SGD,Adam\n",
    "from tensorflow.keras.regularizers import l2\n",
    "import seaborn as sns"
   ]
  },
  {
   "cell_type": "markdown",
   "metadata": {
    "id": "yvHEm_jqHgLu"
   },
   "source": []
  },
  {
   "cell_type": "code",
   "execution_count": 37,
   "metadata": {
    "colab": {
     "base_uri": "https://localhost:8080/"
    },
    "executionInfo": {
     "elapsed": 1719,
     "status": "ok",
     "timestamp": 1733911900747,
     "user": {
      "displayName": "Archis Kulkarni",
      "userId": "16170159291860624587"
     },
     "user_tz": -330
    },
    "id": "sGPplSgHHLVT",
    "outputId": "c2fb1f1b-d8f8-48b0-d8cf-08c78ddd0f45"
   },
   "outputs": [
    {
     "name": "stdout",
     "output_type": "stream",
     "text": [
      "Original dataset size:  (392034, 2)\n",
      "Number of unique values in the 'Label' column: 2\n",
      "        Source IP  Label\n",
      "0  172.217.12.206      1\n",
      "1  172.217.12.206      1\n",
      "2  172.217.12.206      1\n",
      "3    157.56.52.23      1\n",
      "4    157.56.52.23      1\n"
     ]
    }
   ],
   "source": [
    "dataset = pd.read_csv(\"Datasets/Android_Ransomeware.csv\")\n",
    "dataset = dataset. iloc[:, 1:]\n",
    "dataset = dataset[[\" Source IP\", \"Label\"]]\n",
    "print(\"Original dataset size: \",dataset.shape)\n",
    "\n",
    "pletors = dataset[dataset['Label'] == 'Pletor']  # Select rows with Label = 'Pletor'\n",
    "non_pletors = dataset[(dataset['Label'] != 'Pletor') & (dataset['Label'] != 'Benign')]  # Select rows not 'Pletor' or 'Benign'\n",
    "\n",
    "# Randomly sample rows from non_pletors equal to the number of pletors\n",
    "non_pletors_sample = non_pletors.sample(n=len(pletors), random_state=42)\n",
    "\n",
    "# Combine the two subsets\n",
    "dataset = pd.concat([pletors, non_pletors_sample], ignore_index=True)\n",
    "\n",
    "dataset['Label'] = dataset['Label'].apply(lambda x: 1 if x == 'Pletor' else 0)\n",
    "\n",
    "# Step 6: Reset the index for the combined DataFrame\n",
    "dataset = dataset.reset_index(drop=True)\n",
    "\n",
    "print(f\"Number of unique values in the 'Label' column: {dataset['Label'].nunique()}\")\n",
    "print(dataset.head())"
   ]
  },
  {
   "cell_type": "code",
   "execution_count": 18,
   "metadata": {
    "colab": {
     "base_uri": "https://localhost:8080/",
     "height": 672
    },
    "executionInfo": {
     "elapsed": 1188,
     "status": "ok",
     "timestamp": 1733911907162,
     "user": {
      "displayName": "Archis Kulkarni",
      "userId": "16170159291860624587"
     },
     "user_tz": -330
    },
    "id": "-DCB2jgDI4jA",
    "outputId": "b9c6d50b-34d1-4ab6-a775-b15e6518e8d4"
   },
   "outputs": [],
   "source": [
    "def handle_dups_n_nans(dataSet):\n",
    "    dataSet = dataSet.drop_duplicates()\n",
    "    dataSet.replace([np.inf, -np.inf], np.nan, inplace=True)\n",
    "    dataSet.dropna(inplace=True)\n",
    "\n",
    "    return dataSet\n",
    "\n",
    "def normalise_features(dataSet):\n",
    "    numerical_features = dataSet.select_dtypes(include=['float64', 'int64']).columns\n",
    "\n",
    "    mean = dataSet[numerical_features].mean()\n",
    "    std = dataSet[numerical_features].std()\n",
    "\n",
    "    dataSet[numerical_features] = (dataSet[numerical_features] - mean) / std\n",
    "\n",
    "    return dataSet\n",
    "\n",
    "def encode_categorical(dataSet):\n",
    "    categorical_columns = dataSet.select_dtypes(exclude=['float64', 'int64']).columns\n",
    "\n",
    "    for column in categorical_columns:\n",
    "        unique_categories = dataSet[column].unique()\n",
    "        category_to_label = {category: label for label, category in enumerate(unique_categories)}\n",
    "        dataSet[column] = dataSet[column].map(category_to_label)\n",
    "\n",
    "    return dataSet\n",
    "\n",
    "def perform_preprocessing(dataSet):\n",
    "    temp = normalise_features(dataSet)\n",
    "    temp = encode_categorical(temp)\n",
    "    return temp\n",
    "\n",
    "def split_Xy(df):\n",
    "    X = df.drop('Label', axis=1)\n",
    "    y = df['Label']\n",
    "    return X, y\n",
    "\n",
    "# dataset = perform_preprocessing(dataset)\n",
    "# dataset.head()"
   ]
  },
  {
   "cell_type": "code",
   "execution_count": 38,
   "metadata": {
    "colab": {
     "base_uri": "https://localhost:8080/"
    },
    "executionInfo": {
     "elapsed": 379,
     "status": "ok",
     "timestamp": 1733911917182,
     "user": {
      "displayName": "Archis Kulkarni",
      "userId": "16170159291860624587"
     },
     "user_tz": -330
    },
    "id": "_4JkjsrlJcTp",
    "outputId": "877c7e81-d578-46f3-e915-5e01d1daf532"
   },
   "outputs": [
    {
     "name": "stdout",
     "output_type": "stream",
     "text": [
      "Train shape:  (487, 1)   (487,)\n",
      "Test shape:  (222, 1)   (222,)\n",
      "       Source IP\n",
      "2855           0\n",
      "3098           1\n",
      "6968           2\n",
      "3616           2\n",
      "7430           3\n",
      "2855    1\n",
      "3098    1\n",
      "6968    0\n",
      "3616    1\n",
      "7430    0\n",
      "Name: Label, dtype: int64\n"
     ]
    },
    {
     "name": "stderr",
     "output_type": "stream",
     "text": [
      "C:\\Users\\archi\\AppData\\Local\\Temp\\ipykernel_21064\\1967025077.py:3: SettingWithCopyWarning: \n",
      "A value is trying to be set on a copy of a slice from a DataFrame\n",
      "\n",
      "See the caveats in the documentation: https://pandas.pydata.org/pandas-docs/stable/user_guide/indexing.html#returning-a-view-versus-a-copy\n",
      "  dataSet.replace([np.inf, -np.inf], np.nan, inplace=True)\n",
      "C:\\Users\\archi\\AppData\\Local\\Temp\\ipykernel_21064\\1967025077.py:4: SettingWithCopyWarning: \n",
      "A value is trying to be set on a copy of a slice from a DataFrame\n",
      "\n",
      "See the caveats in the documentation: https://pandas.pydata.org/pandas-docs/stable/user_guide/indexing.html#returning-a-view-versus-a-copy\n",
      "  dataSet.dropna(inplace=True)\n"
     ]
    }
   ],
   "source": [
    "train_ratio = 0.8\n",
    "n_samples = dataset.shape[0]\n",
    "indices = np.random.permutation(n_samples)\n",
    "\n",
    "train_size = int(train_ratio * n_samples)\n",
    "train_indices = indices[:train_size]\n",
    "test_indices = indices[train_size:]\n",
    "\n",
    "train_data = dataset.iloc[train_indices]\n",
    "test_data = dataset.iloc[test_indices]\n",
    "\n",
    "train_data = handle_dups_n_nans(train_data)\n",
    "test_data = handle_dups_n_nans(test_data)\n",
    "\n",
    "X_train, y_train = split_Xy(train_data)\n",
    "X_test, y_test = split_Xy(test_data)\n",
    "\n",
    "X_train = perform_preprocessing(X_train)\n",
    "X_test = perform_preprocessing(X_test)\n",
    "\n",
    "print(\"Train shape: \",X_train.shape,\" \",y_train.shape)\n",
    "print(\"Test shape: \",X_test.shape,\" \",y_test.shape)\n",
    "\n",
    "print(X_train.head())\n",
    "print(y_train.head())\n"
   ]
  },
  {
   "cell_type": "code",
   "execution_count": 39,
   "metadata": {},
   "outputs": [
    {
     "name": "stdout",
     "output_type": "stream",
     "text": [
      "Number of unique values in the 'Source IP' column: 436\n"
     ]
    }
   ],
   "source": [
    "# print(f\"Number of unique values in the 'Timestamp' column: {X_train[' Timestamp'].nunique()}\")\n",
    "print(f\"Number of unique values in the 'Source IP' column: {X_train[' Source IP'].nunique()}\")"
   ]
  },
  {
   "cell_type": "code",
   "execution_count": 52,
   "metadata": {
    "colab": {
     "base_uri": "https://localhost:8080/",
     "height": 280
    },
    "executionInfo": {
     "elapsed": 358,
     "status": "ok",
     "timestamp": 1733912589906,
     "user": {
      "displayName": "Archis Kulkarni",
      "userId": "16170159291860624587"
     },
     "user_tz": -330
    },
    "id": "x83eQjVULmRi",
    "outputId": "8b90c803-d5e0-4810-9587-3424555878b8"
   },
   "outputs": [
    {
     "name": "stderr",
     "output_type": "stream",
     "text": [
      "C:\\Users\\archi\\AppData\\Local\\Programs\\Python\\Python311\\Lib\\site-packages\\keras\\src\\layers\\core\\dense.py:87: UserWarning: Do not pass an `input_shape`/`input_dim` argument to a layer. When using Sequential models, prefer using an `Input(shape)` object as the first layer in the model instead.\n",
      "  super().__init__(activity_regularizer=activity_regularizer, **kwargs)\n"
     ]
    },
    {
     "data": {
      "text/html": [
       "<pre style=\"white-space:pre;overflow-x:auto;line-height:normal;font-family:Menlo,'DejaVu Sans Mono',consolas,'Courier New',monospace\"><span style=\"font-weight: bold\">Model: \"sequential_5\"</span>\n",
       "</pre>\n"
      ],
      "text/plain": [
       "\u001b[1mModel: \"sequential_5\"\u001b[0m\n"
      ]
     },
     "metadata": {},
     "output_type": "display_data"
    },
    {
     "data": {
      "text/html": [
       "<pre style=\"white-space:pre;overflow-x:auto;line-height:normal;font-family:Menlo,'DejaVu Sans Mono',consolas,'Courier New',monospace\">┏━━━━━━━━━━━━━━━━━━━━━━━━━━━━━━━━━━━━━━┳━━━━━━━━━━━━━━━━━━━━━━━━━━━━━┳━━━━━━━━━━━━━━━━━┓\n",
       "┃<span style=\"font-weight: bold\"> Layer (type)                         </span>┃<span style=\"font-weight: bold\"> Output Shape                </span>┃<span style=\"font-weight: bold\">         Param # </span>┃\n",
       "┡━━━━━━━━━━━━━━━━━━━━━━━━━━━━━━━━━━━━━━╇━━━━━━━━━━━━━━━━━━━━━━━━━━━━━╇━━━━━━━━━━━━━━━━━┩\n",
       "│ dense_15 (<span style=\"color: #0087ff; text-decoration-color: #0087ff\">Dense</span>)                     │ (<span style=\"color: #00d7ff; text-decoration-color: #00d7ff\">None</span>, <span style=\"color: #00af00; text-decoration-color: #00af00\">32</span>)                  │              <span style=\"color: #00af00; text-decoration-color: #00af00\">64</span> │\n",
       "├──────────────────────────────────────┼─────────────────────────────┼─────────────────┤\n",
       "│ dense_16 (<span style=\"color: #0087ff; text-decoration-color: #0087ff\">Dense</span>)                     │ (<span style=\"color: #00d7ff; text-decoration-color: #00d7ff\">None</span>, <span style=\"color: #00af00; text-decoration-color: #00af00\">16</span>)                  │             <span style=\"color: #00af00; text-decoration-color: #00af00\">528</span> │\n",
       "├──────────────────────────────────────┼─────────────────────────────┼─────────────────┤\n",
       "│ dense_17 (<span style=\"color: #0087ff; text-decoration-color: #0087ff\">Dense</span>)                     │ (<span style=\"color: #00d7ff; text-decoration-color: #00d7ff\">None</span>, <span style=\"color: #00af00; text-decoration-color: #00af00\">1</span>)                   │              <span style=\"color: #00af00; text-decoration-color: #00af00\">17</span> │\n",
       "└──────────────────────────────────────┴─────────────────────────────┴─────────────────┘\n",
       "</pre>\n"
      ],
      "text/plain": [
       "┏━━━━━━━━━━━━━━━━━━━━━━━━━━━━━━━━━━━━━━┳━━━━━━━━━━━━━━━━━━━━━━━━━━━━━┳━━━━━━━━━━━━━━━━━┓\n",
       "┃\u001b[1m \u001b[0m\u001b[1mLayer (type)                        \u001b[0m\u001b[1m \u001b[0m┃\u001b[1m \u001b[0m\u001b[1mOutput Shape               \u001b[0m\u001b[1m \u001b[0m┃\u001b[1m \u001b[0m\u001b[1m        Param #\u001b[0m\u001b[1m \u001b[0m┃\n",
       "┡━━━━━━━━━━━━━━━━━━━━━━━━━━━━━━━━━━━━━━╇━━━━━━━━━━━━━━━━━━━━━━━━━━━━━╇━━━━━━━━━━━━━━━━━┩\n",
       "│ dense_15 (\u001b[38;5;33mDense\u001b[0m)                     │ (\u001b[38;5;45mNone\u001b[0m, \u001b[38;5;34m32\u001b[0m)                  │              \u001b[38;5;34m64\u001b[0m │\n",
       "├──────────────────────────────────────┼─────────────────────────────┼─────────────────┤\n",
       "│ dense_16 (\u001b[38;5;33mDense\u001b[0m)                     │ (\u001b[38;5;45mNone\u001b[0m, \u001b[38;5;34m16\u001b[0m)                  │             \u001b[38;5;34m528\u001b[0m │\n",
       "├──────────────────────────────────────┼─────────────────────────────┼─────────────────┤\n",
       "│ dense_17 (\u001b[38;5;33mDense\u001b[0m)                     │ (\u001b[38;5;45mNone\u001b[0m, \u001b[38;5;34m1\u001b[0m)                   │              \u001b[38;5;34m17\u001b[0m │\n",
       "└──────────────────────────────────────┴─────────────────────────────┴─────────────────┘\n"
      ]
     },
     "metadata": {},
     "output_type": "display_data"
    },
    {
     "data": {
      "text/html": [
       "<pre style=\"white-space:pre;overflow-x:auto;line-height:normal;font-family:Menlo,'DejaVu Sans Mono',consolas,'Courier New',monospace\"><span style=\"font-weight: bold\"> Total params: </span><span style=\"color: #00af00; text-decoration-color: #00af00\">609</span> (2.38 KB)\n",
       "</pre>\n"
      ],
      "text/plain": [
       "\u001b[1m Total params: \u001b[0m\u001b[38;5;34m609\u001b[0m (2.38 KB)\n"
      ]
     },
     "metadata": {},
     "output_type": "display_data"
    },
    {
     "data": {
      "text/html": [
       "<pre style=\"white-space:pre;overflow-x:auto;line-height:normal;font-family:Menlo,'DejaVu Sans Mono',consolas,'Courier New',monospace\"><span style=\"font-weight: bold\"> Trainable params: </span><span style=\"color: #00af00; text-decoration-color: #00af00\">609</span> (2.38 KB)\n",
       "</pre>\n"
      ],
      "text/plain": [
       "\u001b[1m Trainable params: \u001b[0m\u001b[38;5;34m609\u001b[0m (2.38 KB)\n"
      ]
     },
     "metadata": {},
     "output_type": "display_data"
    },
    {
     "data": {
      "text/html": [
       "<pre style=\"white-space:pre;overflow-x:auto;line-height:normal;font-family:Menlo,'DejaVu Sans Mono',consolas,'Courier New',monospace\"><span style=\"font-weight: bold\"> Non-trainable params: </span><span style=\"color: #00af00; text-decoration-color: #00af00\">0</span> (0.00 B)\n",
       "</pre>\n"
      ],
      "text/plain": [
       "\u001b[1m Non-trainable params: \u001b[0m\u001b[38;5;34m0\u001b[0m (0.00 B)\n"
      ]
     },
     "metadata": {},
     "output_type": "display_data"
    }
   ],
   "source": [
    "# lets make our NN model layers\n",
    "np.random.seed(42)\n",
    "tf.random.set_seed(42)\n",
    "num_features = 1\n",
    "num_classes = 1\n",
    "noOfEpochs=100\n",
    "learningRate = 0.0005\n",
    "\n",
    "model = Sequential([\n",
    "    Dense(32, activation='leaky_relu', input_shape=(num_features,),kernel_initializer=HeNormal()),  # Input Layer\n",
    "    Dense(16, activation='leaky_relu', kernel_regularizer=l2(0.01), kernel_initializer=HeNormal()),\n",
    "    Dense(num_classes, activation='sigmoid')  # Output Layer\n",
    "])\n",
    "\n",
    "optimizer = Adam(learning_rate=learningRate)\n",
    "\n",
    "model.compile(\n",
    "    optimizer=optimizer,  # Adaptive Moment Estimation optimizer\n",
    "    loss='binary_crossentropy',  # Suitable for multi-class classification\n",
    "    metrics=['accuracy']  # Tracking accuracy during training\n",
    ")\n",
    "\n",
    "model.summary()"
   ]
  },
  {
   "cell_type": "code",
   "execution_count": 53,
   "metadata": {
    "colab": {
     "base_uri": "https://localhost:8080/"
    },
    "id": "gNMOrCJaL-sq",
    "outputId": "491d92a3-0e93-41db-b201-99f8dfe00c8e"
   },
   "outputs": [
    {
     "name": "stdout",
     "output_type": "stream",
     "text": [
      "Epoch 1/100\n",
      "\u001b[1m12/16\u001b[0m \u001b[32m━━━━━━━━━━━━━━━\u001b[0m\u001b[37m━━━━━\u001b[0m \u001b[1m0s\u001b[0m 5ms/step - accuracy: 0.5286 - loss: 2.5889\n",
      "Epoch 1: loss improved from inf to 1.60970, saving model to model_checkpoint.keras\n",
      "\u001b[1m16/16\u001b[0m \u001b[32m━━━━━━━━━━━━━━━━━━━━\u001b[0m\u001b[37m\u001b[0m \u001b[1m3s\u001b[0m 46ms/step - accuracy: 0.5261 - loss: 2.3094 - val_accuracy: 0.4054 - val_loss: 1.0096 - learning_rate: 5.0000e-04\n",
      "Epoch 2/100\n",
      "\u001b[1m 9/16\u001b[0m \u001b[32m━━━━━━━━━━━\u001b[0m\u001b[37m━━━━━━━━━\u001b[0m \u001b[1m0s\u001b[0m 7ms/step - accuracy: 0.5841 - loss: 1.0024 \n",
      "Epoch 2: loss improved from 1.60970 to 0.99387, saving model to model_checkpoint.keras\n",
      "\u001b[1m16/16\u001b[0m \u001b[32m━━━━━━━━━━━━━━━━━━━━\u001b[0m\u001b[37m\u001b[0m \u001b[1m0s\u001b[0m 25ms/step - accuracy: 0.5714 - loss: 0.9979 - val_accuracy: 0.6441 - val_loss: 0.9981 - learning_rate: 5.0000e-04\n",
      "Epoch 3/100\n",
      "\u001b[1m10/16\u001b[0m \u001b[32m━━━━━━━━━━━━\u001b[0m\u001b[37m━━━━━━━━\u001b[0m \u001b[1m0s\u001b[0m 6ms/step - accuracy: 0.4952 - loss: 1.0227 \n",
      "Epoch 3: loss did not improve from 0.99387\n",
      "\u001b[1m16/16\u001b[0m \u001b[32m━━━━━━━━━━━━━━━━━━━━\u001b[0m\u001b[37m\u001b[0m \u001b[1m0s\u001b[0m 21ms/step - accuracy: 0.5144 - loss: 1.0183 - val_accuracy: 0.4144 - val_loss: 1.0133 - learning_rate: 5.0000e-04\n",
      "Epoch 4/100\n",
      "\u001b[1m 1/16\u001b[0m \u001b[32m━\u001b[0m\u001b[37m━━━━━━━━━━━━━━━━━━━\u001b[0m \u001b[1m0s\u001b[0m 56ms/step - accuracy: 0.6250 - loss: 0.9788\n",
      "Epoch 4: loss did not improve from 0.99387\n",
      "\u001b[1m16/16\u001b[0m \u001b[32m━━━━━━━━━━━━━━━━━━━━\u001b[0m\u001b[37m\u001b[0m \u001b[1m0s\u001b[0m 21ms/step - accuracy: 0.5489 - loss: 1.0167 - val_accuracy: 0.4144 - val_loss: 1.0134 - learning_rate: 5.0000e-04\n",
      "Epoch 5/100\n",
      "\u001b[1m 9/16\u001b[0m \u001b[32m━━━━━━━━━━━\u001b[0m\u001b[37m━━━━━━━━━\u001b[0m \u001b[1m0s\u001b[0m 6ms/step - accuracy: 0.5435 - loss: 1.0163 \n",
      "Epoch 5: loss did not improve from 0.99387\n",
      "\u001b[1m16/16\u001b[0m \u001b[32m━━━━━━━━━━━━━━━━━━━━\u001b[0m\u001b[37m\u001b[0m \u001b[1m0s\u001b[0m 21ms/step - accuracy: 0.5529 - loss: 1.0171 - val_accuracy: 0.5180 - val_loss: 1.0050 - learning_rate: 5.0000e-04\n",
      "Epoch 6/100\n",
      "\u001b[1m10/16\u001b[0m \u001b[32m━━━━━━━━━━━━\u001b[0m\u001b[37m━━━━━━━━\u001b[0m \u001b[1m0s\u001b[0m 6ms/step - accuracy: 0.5547 - loss: 1.0170 \n",
      "Epoch 6: loss did not improve from 0.99387\n",
      "\u001b[1m16/16\u001b[0m \u001b[32m━━━━━━━━━━━━━━━━━━━━\u001b[0m\u001b[37m\u001b[0m \u001b[1m0s\u001b[0m 21ms/step - accuracy: 0.5598 - loss: 1.0168 - val_accuracy: 0.6441 - val_loss: 0.9959 - learning_rate: 5.0000e-04\n",
      "Epoch 7/100\n",
      "\u001b[1m 1/16\u001b[0m \u001b[32m━\u001b[0m\u001b[37m━━━━━━━━━━━━━━━━━━━\u001b[0m \u001b[1m0s\u001b[0m 60ms/step - accuracy: 0.4062 - loss: 1.0147\n",
      "Epoch 7: ReduceLROnPlateau reducing learning rate to 0.0002500000118743628.\n",
      "\n",
      "Epoch 7: loss did not improve from 0.99387\n",
      "\u001b[1m16/16\u001b[0m \u001b[32m━━━━━━━━━━━━━━━━━━━━\u001b[0m\u001b[37m\u001b[0m \u001b[1m0s\u001b[0m 22ms/step - accuracy: 0.5118 - loss: 1.0174 - val_accuracy: 0.6441 - val_loss: 0.9889 - learning_rate: 5.0000e-04\n",
      "Epoch 8/100\n",
      "\u001b[1m13/16\u001b[0m \u001b[32m━━━━━━━━━━━━━━━━\u001b[0m\u001b[37m━━━━\u001b[0m \u001b[1m0s\u001b[0m 4ms/step - accuracy: 0.5170 - loss: 1.0151 \n",
      "Epoch 8: loss improved from 0.99387 to 0.99337, saving model to model_checkpoint.keras\n",
      "\u001b[1m16/16\u001b[0m \u001b[32m━━━━━━━━━━━━━━━━━━━━\u001b[0m\u001b[37m\u001b[0m \u001b[1m0s\u001b[0m 23ms/step - accuracy: 0.5271 - loss: 1.0100 - val_accuracy: 0.4054 - val_loss: 1.0311 - learning_rate: 2.5000e-04\n",
      "Epoch 9/100\n",
      "\u001b[1m10/16\u001b[0m \u001b[32m━━━━━━━━━━━━\u001b[0m\u001b[37m━━━━━━━━\u001b[0m \u001b[1m0s\u001b[0m 6ms/step - accuracy: 0.5766 - loss: 0.9904 \n",
      "Epoch 9: loss improved from 0.99337 to 0.97406, saving model to model_checkpoint.keras\n",
      "\u001b[1m16/16\u001b[0m \u001b[32m━━━━━━━━━━━━━━━━━━━━\u001b[0m\u001b[37m\u001b[0m \u001b[1m0s\u001b[0m 22ms/step - accuracy: 0.5779 - loss: 0.9836 - val_accuracy: 0.4550 - val_loss: 1.0089 - learning_rate: 2.5000e-04\n",
      "Epoch 10/100\n",
      "\u001b[1m13/16\u001b[0m \u001b[32m━━━━━━━━━━━━━━━━\u001b[0m\u001b[37m━━━━\u001b[0m \u001b[1m0s\u001b[0m 4ms/step - accuracy: 0.5610 - loss: 0.9885 \n",
      "Epoch 10: loss did not improve from 0.97406\n",
      "\u001b[1m16/16\u001b[0m \u001b[32m━━━━━━━━━━━━━━━━━━━━\u001b[0m\u001b[37m\u001b[0m \u001b[1m0s\u001b[0m 21ms/step - accuracy: 0.5622 - loss: 0.9858 - val_accuracy: 0.4054 - val_loss: 1.0178 - learning_rate: 2.5000e-04\n",
      "Epoch 11/100\n",
      "\u001b[1m14/16\u001b[0m \u001b[32m━━━━━━━━━━━━━━━━━\u001b[0m\u001b[37m━━━\u001b[0m \u001b[1m0s\u001b[0m 4ms/step - accuracy: 0.5909 - loss: 0.9851 \n",
      "Epoch 11: loss did not improve from 0.97406\n",
      "\u001b[1m16/16\u001b[0m \u001b[32m━━━━━━━━━━━━━━━━━━━━\u001b[0m\u001b[37m\u001b[0m \u001b[1m0s\u001b[0m 21ms/step - accuracy: 0.5897 - loss: 0.9832 - val_accuracy: 0.4324 - val_loss: 1.0130 - learning_rate: 2.5000e-04\n",
      "Epoch 12/100\n",
      "\u001b[1m12/16\u001b[0m \u001b[32m━━━━━━━━━━━━━━━\u001b[0m\u001b[37m━━━━━\u001b[0m \u001b[1m0s\u001b[0m 5ms/step - accuracy: 0.5809 - loss: 0.9874 \n",
      "Epoch 12: loss did not improve from 0.97406\n",
      "\u001b[1m16/16\u001b[0m \u001b[32m━━━━━━━━━━━━━━━━━━━━\u001b[0m\u001b[37m\u001b[0m \u001b[1m0s\u001b[0m 23ms/step - accuracy: 0.5796 - loss: 0.9839 - val_accuracy: 0.4234 - val_loss: 1.0150 - learning_rate: 2.5000e-04\n",
      "Epoch 13/100\n",
      "\u001b[1m13/16\u001b[0m \u001b[32m━━━━━━━━━━━━━━━━\u001b[0m\u001b[37m━━━━\u001b[0m \u001b[1m0s\u001b[0m 4ms/step - accuracy: 0.5816 - loss: 0.9867 \n",
      "Epoch 13: loss did not improve from 0.97406\n",
      "\u001b[1m16/16\u001b[0m \u001b[32m━━━━━━━━━━━━━━━━━━━━\u001b[0m\u001b[37m\u001b[0m \u001b[1m0s\u001b[0m 20ms/step - accuracy: 0.5805 - loss: 0.9840 - val_accuracy: 0.4324 - val_loss: 1.0136 - learning_rate: 2.5000e-04\n",
      "Epoch 14/100\n",
      "\u001b[1m13/16\u001b[0m \u001b[32m━━━━━━━━━━━━━━━━\u001b[0m\u001b[37m━━━━\u001b[0m \u001b[1m0s\u001b[0m 5ms/step - accuracy: 0.5803 - loss: 0.9866 \n",
      "Epoch 14: ReduceLROnPlateau reducing learning rate to 0.0001250000059371814.\n",
      "\n",
      "Epoch 14: loss did not improve from 0.97406\n",
      "\u001b[1m16/16\u001b[0m \u001b[32m━━━━━━━━━━━━━━━━━━━━\u001b[0m\u001b[37m\u001b[0m \u001b[1m0s\u001b[0m 20ms/step - accuracy: 0.5796 - loss: 0.9840 - val_accuracy: 0.4369 - val_loss: 1.0135 - learning_rate: 2.5000e-04\n",
      "Epoch 15/100\n",
      "\u001b[1m10/16\u001b[0m \u001b[32m━━━━━━━━━━━━\u001b[0m\u001b[37m━━━━━━━━\u001b[0m \u001b[1m0s\u001b[0m 6ms/step - accuracy: 0.6033 - loss: 0.9812 \n",
      "Epoch 15: loss improved from 0.97406 to 0.96889, saving model to model_checkpoint.keras\n",
      "\u001b[1m16/16\u001b[0m \u001b[32m━━━━━━━━━━━━━━━━━━━━\u001b[0m\u001b[37m\u001b[0m \u001b[1m0s\u001b[0m 23ms/step - accuracy: 0.5974 - loss: 0.9757 - val_accuracy: 0.4324 - val_loss: 1.0142 - learning_rate: 1.2500e-04\n",
      "Epoch 16/100\n",
      "\u001b[1m12/16\u001b[0m \u001b[32m━━━━━━━━━━━━━━━\u001b[0m\u001b[37m━━━━━\u001b[0m \u001b[1m0s\u001b[0m 5ms/step - accuracy: 0.5893 - loss: 0.9826 \n",
      "Epoch 16: loss did not improve from 0.96889\n",
      "\u001b[1m16/16\u001b[0m \u001b[32m━━━━━━━━━━━━━━━━━━━━\u001b[0m\u001b[37m\u001b[0m \u001b[1m0s\u001b[0m 20ms/step - accuracy: 0.5874 - loss: 0.9794 - val_accuracy: 0.4550 - val_loss: 1.0096 - learning_rate: 1.2500e-04\n",
      "Epoch 17/100\n",
      "\u001b[1m11/16\u001b[0m \u001b[32m━━━━━━━━━━━━━\u001b[0m\u001b[37m━━━━━━━\u001b[0m \u001b[1m0s\u001b[0m 5ms/step - accuracy: 0.5742 - loss: 0.9854 \n",
      "Epoch 17: loss did not improve from 0.96889\n",
      "\u001b[1m16/16\u001b[0m \u001b[32m━━━━━━━━━━━━━━━━━━━━\u001b[0m\u001b[37m\u001b[0m \u001b[1m0s\u001b[0m 22ms/step - accuracy: 0.5725 - loss: 0.9807 - val_accuracy: 0.4775 - val_loss: 1.0062 - learning_rate: 1.2500e-04\n",
      "Epoch 18/100\n",
      "\u001b[1m13/16\u001b[0m \u001b[32m━━━━━━━━━━━━━━━━\u001b[0m\u001b[37m━━━━\u001b[0m \u001b[1m0s\u001b[0m 4ms/step - accuracy: 0.5671 - loss: 0.9831 \n",
      "Epoch 18: loss did not improve from 0.96889\n",
      "\u001b[1m16/16\u001b[0m \u001b[32m━━━━━━━━━━━━━━━━━━━━\u001b[0m\u001b[37m\u001b[0m \u001b[1m0s\u001b[0m 20ms/step - accuracy: 0.5665 - loss: 0.9805 - val_accuracy: 0.4820 - val_loss: 1.0046 - learning_rate: 1.2500e-04\n",
      "Epoch 19/100\n",
      "\u001b[1m 1/16\u001b[0m \u001b[32m━\u001b[0m\u001b[37m━━━━━━━━━━━━━━━━━━━\u001b[0m \u001b[1m0s\u001b[0m 63ms/step - accuracy: 0.6875 - loss: 0.9634\n",
      "Epoch 19: loss did not improve from 0.96889\n",
      "\u001b[1m16/16\u001b[0m \u001b[32m━━━━━━━━━━━━━━━━━━━━\u001b[0m\u001b[37m\u001b[0m \u001b[1m0s\u001b[0m 19ms/step - accuracy: 0.5788 - loss: 0.9797 - val_accuracy: 0.4910 - val_loss: 1.0040 - learning_rate: 1.2500e-04\n",
      "Epoch 20/100\n",
      "\u001b[1m10/16\u001b[0m \u001b[32m━━━━━━━━━━━━\u001b[0m\u001b[37m━━━━━━━━\u001b[0m \u001b[1m0s\u001b[0m 6ms/step - accuracy: 0.5931 - loss: 0.9849 \n",
      "Epoch 20: ReduceLROnPlateau reducing learning rate to 6.25000029685907e-05.\n",
      "\n",
      "Epoch 20: loss did not improve from 0.96889\n",
      "\u001b[1m16/16\u001b[0m \u001b[32m━━━━━━━━━━━━━━━━━━━━\u001b[0m\u001b[37m\u001b[0m \u001b[1m0s\u001b[0m 24ms/step - accuracy: 0.5891 - loss: 0.9790 - val_accuracy: 0.4955 - val_loss: 1.0037 - learning_rate: 1.2500e-04\n",
      "Epoch 21/100\n",
      "\u001b[1m14/16\u001b[0m \u001b[32m━━━━━━━━━━━━━━━━━\u001b[0m\u001b[37m━━━\u001b[0m \u001b[1m0s\u001b[0m 4ms/step - accuracy: 0.5974 - loss: 0.9758 \n",
      "Epoch 21: loss improved from 0.96889 to 0.96871, saving model to model_checkpoint.keras\n",
      "\u001b[1m16/16\u001b[0m \u001b[32m━━━━━━━━━━━━━━━━━━━━\u001b[0m\u001b[37m\u001b[0m \u001b[1m0s\u001b[0m 24ms/step - accuracy: 0.5950 - loss: 0.9745 - val_accuracy: 0.4144 - val_loss: 1.0325 - learning_rate: 6.2500e-05\n",
      "Epoch 22/100\n",
      "\u001b[1m13/16\u001b[0m \u001b[32m━━━━━━━━━━━━━━━━\u001b[0m\u001b[37m━━━━\u001b[0m \u001b[1m0s\u001b[0m 4ms/step - accuracy: 0.5926 - loss: 0.9811 \n",
      "Epoch 22: loss did not improve from 0.96871\n",
      "\u001b[1m16/16\u001b[0m \u001b[32m━━━━━━━━━━━━━━━━━━━━\u001b[0m\u001b[37m\u001b[0m \u001b[1m0s\u001b[0m 21ms/step - accuracy: 0.5903 - loss: 0.9786 - val_accuracy: 0.4099 - val_loss: 1.0416 - learning_rate: 6.2500e-05\n",
      "Epoch 23/100\n",
      "\u001b[1m12/16\u001b[0m \u001b[32m━━━━━━━━━━━━━━━\u001b[0m\u001b[37m━━━━━\u001b[0m \u001b[1m0s\u001b[0m 5ms/step - accuracy: 0.5892 - loss: 0.9861 \n",
      "Epoch 23: loss did not improve from 0.96871\n",
      "\u001b[1m16/16\u001b[0m \u001b[32m━━━━━━━━━━━━━━━━━━━━\u001b[0m\u001b[37m\u001b[0m \u001b[1m0s\u001b[0m 23ms/step - accuracy: 0.5879 - loss: 0.9816 - val_accuracy: 0.4144 - val_loss: 1.0391 - learning_rate: 6.2500e-05\n",
      "Epoch 24/100\n",
      "\u001b[1m12/16\u001b[0m \u001b[32m━━━━━━━━━━━━━━━\u001b[0m\u001b[37m━━━━━\u001b[0m \u001b[1m0s\u001b[0m 5ms/step - accuracy: 0.5871 - loss: 0.9847 \n",
      "Epoch 24: loss did not improve from 0.96871\n",
      "\u001b[1m16/16\u001b[0m \u001b[32m━━━━━━━━━━━━━━━━━━━━\u001b[0m\u001b[37m\u001b[0m \u001b[1m0s\u001b[0m 20ms/step - accuracy: 0.5858 - loss: 0.9803 - val_accuracy: 0.4189 - val_loss: 1.0364 - learning_rate: 6.2500e-05\n",
      "Epoch 25/100\n",
      "\u001b[1m12/16\u001b[0m \u001b[32m━━━━━━━━━━━━━━━\u001b[0m\u001b[37m━━━━━\u001b[0m \u001b[1m0s\u001b[0m 5ms/step - accuracy: 0.5879 - loss: 0.9832 \n",
      "Epoch 25: loss did not improve from 0.96871\n",
      "\u001b[1m16/16\u001b[0m \u001b[32m━━━━━━━━━━━━━━━━━━━━\u001b[0m\u001b[37m\u001b[0m \u001b[1m0s\u001b[0m 22ms/step - accuracy: 0.5864 - loss: 0.9790 - val_accuracy: 0.4189 - val_loss: 1.0357 - learning_rate: 6.2500e-05\n",
      "Epoch 26/100\n",
      "\u001b[1m12/16\u001b[0m \u001b[32m━━━━━━━━━━━━━━━\u001b[0m\u001b[37m━━━━━\u001b[0m \u001b[1m0s\u001b[0m 5ms/step - accuracy: 0.5892 - loss: 0.9828 \n",
      "Epoch 26: ReduceLROnPlateau reducing learning rate to 3.125000148429535e-05.\n",
      "\n",
      "Epoch 26: loss did not improve from 0.96871\n",
      "\u001b[1m16/16\u001b[0m \u001b[32m━━━━━━━━━━━━━━━━━━━━\u001b[0m\u001b[37m\u001b[0m \u001b[1m0s\u001b[0m 21ms/step - accuracy: 0.5879 - loss: 0.9787 - val_accuracy: 0.4189 - val_loss: 1.0359 - learning_rate: 6.2500e-05\n",
      "Epoch 27/100\n",
      "\u001b[1m14/16\u001b[0m \u001b[32m━━━━━━━━━━━━━━━━━\u001b[0m\u001b[37m━━━\u001b[0m \u001b[1m0s\u001b[0m 4ms/step - accuracy: 0.5918 - loss: 0.9798 \n",
      "Epoch 27: loss improved from 0.96871 to 0.96753, saving model to model_checkpoint.keras\n",
      "\u001b[1m16/16\u001b[0m \u001b[32m━━━━━━━━━━━━━━━━━━━━\u001b[0m\u001b[37m\u001b[0m \u001b[1m0s\u001b[0m 23ms/step - accuracy: 0.5915 - loss: 0.9776 - val_accuracy: 0.4324 - val_loss: 1.0167 - learning_rate: 3.1250e-05\n",
      "Epoch 28/100\n",
      "\u001b[1m 9/16\u001b[0m \u001b[32m━━━━━━━━━━━\u001b[0m\u001b[37m━━━━━━━━━\u001b[0m \u001b[1m0s\u001b[0m 7ms/step - accuracy: 0.5964 - loss: 0.9767 \n",
      "Epoch 28: loss improved from 0.96753 to 0.96308, saving model to model_checkpoint.keras\n",
      "\u001b[1m16/16\u001b[0m \u001b[32m━━━━━━━━━━━━━━━━━━━━\u001b[0m\u001b[37m\u001b[0m \u001b[1m0s\u001b[0m 26ms/step - accuracy: 0.5898 - loss: 0.9701 - val_accuracy: 0.4234 - val_loss: 1.0207 - learning_rate: 3.1250e-05\n",
      "Epoch 29/100\n",
      "\u001b[1m16/16\u001b[0m \u001b[32m━━━━━━━━━━━━━━━━━━━━\u001b[0m\u001b[37m\u001b[0m \u001b[1m0s\u001b[0m 4ms/step - accuracy: 0.5912 - loss: 0.9718 \n",
      "Epoch 29: loss did not improve from 0.96308\n",
      "\u001b[1m16/16\u001b[0m \u001b[32m━━━━━━━━━━━━━━━━━━━━\u001b[0m\u001b[37m\u001b[0m \u001b[1m0s\u001b[0m 20ms/step - accuracy: 0.5906 - loss: 0.9713 - val_accuracy: 0.4234 - val_loss: 1.0212 - learning_rate: 3.1250e-05\n",
      "Epoch 30/100\n",
      "\u001b[1m11/16\u001b[0m \u001b[32m━━━━━━━━━━━━━\u001b[0m\u001b[37m━━━━━━━\u001b[0m \u001b[1m0s\u001b[0m 5ms/step - accuracy: 0.5943 - loss: 0.9762 \n",
      "Epoch 30: loss did not improve from 0.96308\n",
      "\u001b[1m16/16\u001b[0m \u001b[32m━━━━━━━━━━━━━━━━━━━━\u001b[0m\u001b[37m\u001b[0m \u001b[1m0s\u001b[0m 23ms/step - accuracy: 0.5906 - loss: 0.9714 - val_accuracy: 0.4234 - val_loss: 1.0200 - learning_rate: 3.1250e-05\n",
      "Epoch 31/100\n",
      "\u001b[1m 1/16\u001b[0m \u001b[32m━\u001b[0m\u001b[37m━━━━━━━━━━━━━━━━━━━\u001b[0m \u001b[1m1s\u001b[0m 105ms/step - accuracy: 0.6562 - loss: 0.9536\n",
      "Epoch 31: loss did not improve from 0.96308\n",
      "\u001b[1m16/16\u001b[0m \u001b[32m━━━━━━━━━━━━━━━━━━━━\u001b[0m\u001b[37m\u001b[0m \u001b[1m0s\u001b[0m 17ms/step - accuracy: 0.5906 - loss: 0.9710 - val_accuracy: 0.4234 - val_loss: 1.0207 - learning_rate: 3.1250e-05\n",
      "Epoch 32/100\n",
      "\u001b[1m12/16\u001b[0m \u001b[32m━━━━━━━━━━━━━━━\u001b[0m\u001b[37m━━━━━\u001b[0m \u001b[1m0s\u001b[0m 5ms/step - accuracy: 0.5938 - loss: 0.9747 \n",
      "Epoch 32: loss did not improve from 0.96308\n",
      "\u001b[1m16/16\u001b[0m \u001b[32m━━━━━━━━━━━━━━━━━━━━\u001b[0m\u001b[37m\u001b[0m \u001b[1m0s\u001b[0m 20ms/step - accuracy: 0.5906 - loss: 0.9712 - val_accuracy: 0.4234 - val_loss: 1.0204 - learning_rate: 3.1250e-05\n",
      "Epoch 33/100\n",
      "\u001b[1m16/16\u001b[0m \u001b[32m━━━━━━━━━━━━━━━━━━━━\u001b[0m\u001b[37m\u001b[0m \u001b[1m0s\u001b[0m 4ms/step - accuracy: 0.5912 - loss: 0.9716 \n",
      "Epoch 33: ReduceLROnPlateau reducing learning rate to 1.5625000742147677e-05.\n",
      "\n",
      "Epoch 33: loss did not improve from 0.96308\n",
      "\u001b[1m16/16\u001b[0m \u001b[32m━━━━━━━━━━━━━━━━━━━━\u001b[0m\u001b[37m\u001b[0m \u001b[1m0s\u001b[0m 23ms/step - accuracy: 0.5906 - loss: 0.9711 - val_accuracy: 0.4234 - val_loss: 1.0204 - learning_rate: 3.1250e-05\n",
      "Epoch 34/100\n",
      "\u001b[1m12/16\u001b[0m \u001b[32m━━━━━━━━━━━━━━━\u001b[0m\u001b[37m━━━━━\u001b[0m \u001b[1m0s\u001b[0m 5ms/step - accuracy: 0.5933 - loss: 0.9740 \n",
      "Epoch 34: loss improved from 0.96308 to 0.96278, saving model to model_checkpoint.keras\n",
      "\u001b[1m16/16\u001b[0m \u001b[32m━━━━━━━━━━━━━━━━━━━━\u001b[0m\u001b[37m\u001b[0m \u001b[1m0s\u001b[0m 23ms/step - accuracy: 0.5903 - loss: 0.9705 - val_accuracy: 0.4414 - val_loss: 1.0147 - learning_rate: 1.5625e-05\n",
      "Epoch 35/100\n",
      "\u001b[1m 1/16\u001b[0m \u001b[32m━\u001b[0m\u001b[37m━━━━━━━━━━━━━━━━━━━\u001b[0m \u001b[1m0s\u001b[0m 55ms/step - accuracy: 0.6562 - loss: 0.9535\n",
      "Epoch 35: loss improved from 0.96278 to 0.96231, saving model to model_checkpoint.keras\n",
      "\u001b[1m16/16\u001b[0m \u001b[32m━━━━━━━━━━━━━━━━━━━━\u001b[0m\u001b[37m\u001b[0m \u001b[1m0s\u001b[0m 24ms/step - accuracy: 0.5907 - loss: 0.9690 - val_accuracy: 0.4324 - val_loss: 1.0166 - learning_rate: 1.5625e-05\n",
      "Epoch 36/100\n",
      "\u001b[1m13/16\u001b[0m \u001b[32m━━━━━━━━━━━━━━━━\u001b[0m\u001b[37m━━━━\u001b[0m \u001b[1m0s\u001b[0m 4ms/step - accuracy: 0.5926 - loss: 0.9718 \n",
      "Epoch 36: loss improved from 0.96231 to 0.96226, saving model to model_checkpoint.keras\n",
      "\u001b[1m16/16\u001b[0m \u001b[32m━━━━━━━━━━━━━━━━━━━━\u001b[0m\u001b[37m\u001b[0m \u001b[1m0s\u001b[0m 24ms/step - accuracy: 0.5898 - loss: 0.9694 - val_accuracy: 0.4369 - val_loss: 1.0160 - learning_rate: 1.5625e-05\n",
      "Epoch 37/100\n",
      "\u001b[1m12/16\u001b[0m \u001b[32m━━━━━━━━━━━━━━━\u001b[0m\u001b[37m━━━━━\u001b[0m \u001b[1m0s\u001b[0m 5ms/step - accuracy: 0.5938 - loss: 0.9725 \n",
      "Epoch 37: loss did not improve from 0.96226\n",
      "\u001b[1m16/16\u001b[0m \u001b[32m━━━━━━━━━━━━━━━━━━━━\u001b[0m\u001b[37m\u001b[0m \u001b[1m0s\u001b[0m 21ms/step - accuracy: 0.5912 - loss: 0.9692 - val_accuracy: 0.4369 - val_loss: 1.0161 - learning_rate: 1.5625e-05\n",
      "Epoch 38/100\n",
      "\u001b[1m15/16\u001b[0m \u001b[32m━━━━━━━━━━━━━━━━━━\u001b[0m\u001b[37m━━\u001b[0m \u001b[1m0s\u001b[0m 4ms/step - accuracy: 0.5923 - loss: 0.9701 \n",
      "Epoch 38: loss improved from 0.96226 to 0.96221, saving model to model_checkpoint.keras\n",
      "\u001b[1m16/16\u001b[0m \u001b[32m━━━━━━━━━━━━━━━━━━━━\u001b[0m\u001b[37m\u001b[0m \u001b[1m0s\u001b[0m 24ms/step - accuracy: 0.5912 - loss: 0.9692 - val_accuracy: 0.4369 - val_loss: 1.0161 - learning_rate: 1.5625e-05\n",
      "Epoch 39/100\n",
      "\u001b[1m 1/16\u001b[0m \u001b[32m━\u001b[0m\u001b[37m━━━━━━━━━━━━━━━━━━━\u001b[0m \u001b[1m1s\u001b[0m 76ms/step - accuracy: 0.6562 - loss: 0.9532\n",
      "Epoch 39: loss improved from 0.96221 to 0.96221, saving model to model_checkpoint.keras\n",
      "\u001b[1m16/16\u001b[0m \u001b[32m━━━━━━━━━━━━━━━━━━━━\u001b[0m\u001b[37m\u001b[0m \u001b[1m0s\u001b[0m 22ms/step - accuracy: 0.5912 - loss: 0.9692 - val_accuracy: 0.4369 - val_loss: 1.0160 - learning_rate: 1.5625e-05\n",
      "Epoch 40/100\n",
      "\u001b[1m 1/16\u001b[0m \u001b[32m━\u001b[0m\u001b[37m━━━━━━━━━━━━━━━━━━━\u001b[0m \u001b[1m1s\u001b[0m 77ms/step - accuracy: 0.6562 - loss: 0.9532\n",
      "Epoch 40: loss improved from 0.96221 to 0.96217, saving model to model_checkpoint.keras\n",
      "\u001b[1m16/16\u001b[0m \u001b[32m━━━━━━━━━━━━━━━━━━━━\u001b[0m\u001b[37m\u001b[0m \u001b[1m0s\u001b[0m 22ms/step - accuracy: 0.5912 - loss: 0.9692 - val_accuracy: 0.4369 - val_loss: 1.0160 - learning_rate: 1.5625e-05\n",
      "Epoch 41/100\n",
      "\u001b[1m10/16\u001b[0m \u001b[32m━━━━━━━━━━━━\u001b[0m\u001b[37m━━━━━━━━\u001b[0m \u001b[1m0s\u001b[0m 6ms/step - accuracy: 0.5952 - loss: 0.9747 \n",
      "Epoch 41: loss improved from 0.96217 to 0.96214, saving model to model_checkpoint.keras\n",
      "\u001b[1m16/16\u001b[0m \u001b[32m━━━━━━━━━━━━━━━━━━━━\u001b[0m\u001b[37m\u001b[0m \u001b[1m0s\u001b[0m 24ms/step - accuracy: 0.5912 - loss: 0.9691 - val_accuracy: 0.4369 - val_loss: 1.0159 - learning_rate: 1.5625e-05\n",
      "Epoch 42/100\n",
      "\u001b[1m15/16\u001b[0m \u001b[32m━━━━━━━━━━━━━━━━━━\u001b[0m\u001b[37m━━\u001b[0m \u001b[1m0s\u001b[0m 5ms/step - accuracy: 0.5923 - loss: 0.9701 \n",
      "Epoch 42: loss improved from 0.96214 to 0.96211, saving model to model_checkpoint.keras\n",
      "\u001b[1m16/16\u001b[0m \u001b[32m━━━━━━━━━━━━━━━━━━━━\u001b[0m\u001b[37m\u001b[0m \u001b[1m0s\u001b[0m 24ms/step - accuracy: 0.5912 - loss: 0.9691 - val_accuracy: 0.4369 - val_loss: 1.0159 - learning_rate: 1.5625e-05\n",
      "Epoch 43/100\n",
      "\u001b[1m10/16\u001b[0m \u001b[32m━━━━━━━━━━━━\u001b[0m\u001b[37m━━━━━━━━\u001b[0m \u001b[1m0s\u001b[0m 6ms/step - accuracy: 0.5952 - loss: 0.9746 \n",
      "Epoch 43: loss improved from 0.96211 to 0.96208, saving model to model_checkpoint.keras\n",
      "\u001b[1m16/16\u001b[0m \u001b[32m━━━━━━━━━━━━━━━━━━━━\u001b[0m\u001b[37m\u001b[0m \u001b[1m0s\u001b[0m 26ms/step - accuracy: 0.5912 - loss: 0.9691 - val_accuracy: 0.4369 - val_loss: 1.0158 - learning_rate: 1.5625e-05\n",
      "Epoch 44/100\n",
      "\u001b[1m13/16\u001b[0m \u001b[32m━━━━━━━━━━━━━━━━\u001b[0m\u001b[37m━━━━\u001b[0m \u001b[1m0s\u001b[0m 4ms/step - accuracy: 0.5932 - loss: 0.9714 \n",
      "Epoch 44: loss improved from 0.96208 to 0.96205, saving model to model_checkpoint.keras\n",
      "\u001b[1m16/16\u001b[0m \u001b[32m━━━━━━━━━━━━━━━━━━━━\u001b[0m\u001b[37m\u001b[0m \u001b[1m0s\u001b[0m 23ms/step - accuracy: 0.5912 - loss: 0.9691 - val_accuracy: 0.4369 - val_loss: 1.0158 - learning_rate: 1.5625e-05\n",
      "Epoch 45/100\n",
      "\u001b[1m 1/16\u001b[0m \u001b[32m━\u001b[0m\u001b[37m━━━━━━━━━━━━━━━━━━━\u001b[0m \u001b[1m1s\u001b[0m 72ms/step - accuracy: 0.6562 - loss: 0.9530\n",
      "Epoch 45: loss improved from 0.96205 to 0.96202, saving model to model_checkpoint.keras\n",
      "\u001b[1m16/16\u001b[0m \u001b[32m━━━━━━━━━━━━━━━━━━━━\u001b[0m\u001b[37m\u001b[0m \u001b[1m0s\u001b[0m 23ms/step - accuracy: 0.5912 - loss: 0.9690 - val_accuracy: 0.4414 - val_loss: 1.0157 - learning_rate: 1.5625e-05\n",
      "Epoch 46/100\n",
      "\u001b[1m14/16\u001b[0m \u001b[32m━━━━━━━━━━━━━━━━━\u001b[0m\u001b[37m━━━\u001b[0m \u001b[1m0s\u001b[0m 8ms/step - accuracy: 0.5928 - loss: 0.9706\n",
      "Epoch 46: loss improved from 0.96202 to 0.96199, saving model to model_checkpoint.keras\n",
      "\u001b[1m16/16\u001b[0m \u001b[32m━━━━━━━━━━━━━━━━━━━━\u001b[0m\u001b[37m\u001b[0m \u001b[1m0s\u001b[0m 25ms/step - accuracy: 0.5912 - loss: 0.9690 - val_accuracy: 0.4414 - val_loss: 1.0157 - learning_rate: 1.5625e-05\n",
      "Epoch 47/100\n",
      "\u001b[1m10/16\u001b[0m \u001b[32m━━━━━━━━━━━━\u001b[0m\u001b[37m━━━━━━━━\u001b[0m \u001b[1m0s\u001b[0m 6ms/step - accuracy: 0.5952 - loss: 0.9745 \n",
      "Epoch 47: loss improved from 0.96199 to 0.96196, saving model to model_checkpoint.keras\n",
      "\u001b[1m16/16\u001b[0m \u001b[32m━━━━━━━━━━━━━━━━━━━━\u001b[0m\u001b[37m\u001b[0m \u001b[1m0s\u001b[0m 25ms/step - accuracy: 0.5912 - loss: 0.9690 - val_accuracy: 0.4414 - val_loss: 1.0156 - learning_rate: 1.5625e-05\n",
      "Epoch 48/100\n",
      "\u001b[1m 8/16\u001b[0m \u001b[32m━━━━━━━━━━\u001b[0m\u001b[37m━━━━━━━━━━\u001b[0m \u001b[1m0s\u001b[0m 7ms/step - accuracy: 0.5963 - loss: 0.9768 \n",
      "Epoch 48: loss improved from 0.96196 to 0.96193, saving model to model_checkpoint.keras\n",
      "\u001b[1m16/16\u001b[0m \u001b[32m━━━━━━━━━━━━━━━━━━━━\u001b[0m\u001b[37m\u001b[0m \u001b[1m0s\u001b[0m 25ms/step - accuracy: 0.5912 - loss: 0.9690 - val_accuracy: 0.4414 - val_loss: 1.0156 - learning_rate: 1.5625e-05\n",
      "Epoch 49/100\n",
      "\u001b[1m16/16\u001b[0m \u001b[32m━━━━━━━━━━━━━━━━━━━━\u001b[0m\u001b[37m\u001b[0m \u001b[1m0s\u001b[0m 4ms/step - accuracy: 0.5917 - loss: 0.9694 \n",
      "Epoch 49: loss improved from 0.96193 to 0.96189, saving model to model_checkpoint.keras\n",
      "\u001b[1m16/16\u001b[0m \u001b[32m━━━━━━━━━━━━━━━━━━━━\u001b[0m\u001b[37m\u001b[0m \u001b[1m0s\u001b[0m 23ms/step - accuracy: 0.5912 - loss: 0.9689 - val_accuracy: 0.4414 - val_loss: 1.0155 - learning_rate: 1.5625e-05\n",
      "Epoch 50/100\n",
      "\u001b[1m13/16\u001b[0m \u001b[32m━━━━━━━━━━━━━━━━\u001b[0m\u001b[37m━━━━\u001b[0m \u001b[1m0s\u001b[0m 5ms/step - accuracy: 0.5932 - loss: 0.9713 \n",
      "Epoch 50: loss improved from 0.96189 to 0.96186, saving model to model_checkpoint.keras\n",
      "\u001b[1m16/16\u001b[0m \u001b[32m━━━━━━━━━━━━━━━━━━━━\u001b[0m\u001b[37m\u001b[0m \u001b[1m0s\u001b[0m 24ms/step - accuracy: 0.5912 - loss: 0.9689 - val_accuracy: 0.4414 - val_loss: 1.0155 - learning_rate: 1.5625e-05\n",
      "Epoch 51/100\n",
      "\u001b[1m 8/16\u001b[0m \u001b[32m━━━━━━━━━━\u001b[0m\u001b[37m━━━━━━━━━━\u001b[0m \u001b[1m0s\u001b[0m 8ms/step - accuracy: 0.5963 - loss: 0.9767 \n",
      "Epoch 51: loss improved from 0.96186 to 0.96183, saving model to model_checkpoint.keras\n",
      "\u001b[1m16/16\u001b[0m \u001b[32m━━━━━━━━━━━━━━━━━━━━\u001b[0m\u001b[37m\u001b[0m \u001b[1m0s\u001b[0m 24ms/step - accuracy: 0.5912 - loss: 0.9689 - val_accuracy: 0.4414 - val_loss: 1.0154 - learning_rate: 1.5625e-05\n",
      "Epoch 52/100\n",
      "\u001b[1m10/16\u001b[0m \u001b[32m━━━━━━━━━━━━\u001b[0m\u001b[37m━━━━━━━━\u001b[0m \u001b[1m0s\u001b[0m 6ms/step - accuracy: 0.5952 - loss: 0.9744 \n",
      "Epoch 52: loss improved from 0.96183 to 0.96180, saving model to model_checkpoint.keras\n",
      "\u001b[1m16/16\u001b[0m \u001b[32m━━━━━━━━━━━━━━━━━━━━\u001b[0m\u001b[37m\u001b[0m \u001b[1m0s\u001b[0m 24ms/step - accuracy: 0.5912 - loss: 0.9688 - val_accuracy: 0.4414 - val_loss: 1.0154 - learning_rate: 1.5625e-05\n",
      "Epoch 53/100\n",
      "\u001b[1m 1/16\u001b[0m \u001b[32m━\u001b[0m\u001b[37m━━━━━━━━━━━━━━━━━━━\u001b[0m \u001b[1m1s\u001b[0m 76ms/step - accuracy: 0.6562 - loss: 0.9527\n",
      "Epoch 53: loss improved from 0.96180 to 0.96176, saving model to model_checkpoint.keras\n",
      "\u001b[1m16/16\u001b[0m \u001b[32m━━━━━━━━━━━━━━━━━━━━\u001b[0m\u001b[37m\u001b[0m \u001b[1m0s\u001b[0m 23ms/step - accuracy: 0.5912 - loss: 0.9688 - val_accuracy: 0.4414 - val_loss: 1.0153 - learning_rate: 1.5625e-05\n",
      "Epoch 54/100\n",
      "\u001b[1m 1/16\u001b[0m \u001b[32m━\u001b[0m\u001b[37m━━━━━━━━━━━━━━━━━━━\u001b[0m \u001b[1m0s\u001b[0m 63ms/step - accuracy: 0.6562 - loss: 0.9526\n",
      "Epoch 54: loss improved from 0.96176 to 0.96173, saving model to model_checkpoint.keras\n",
      "\u001b[1m16/16\u001b[0m \u001b[32m━━━━━━━━━━━━━━━━━━━━\u001b[0m\u001b[37m\u001b[0m \u001b[1m0s\u001b[0m 21ms/step - accuracy: 0.5912 - loss: 0.9688 - val_accuracy: 0.4414 - val_loss: 1.0153 - learning_rate: 1.5625e-05\n",
      "Epoch 55/100\n",
      "\u001b[1m14/16\u001b[0m \u001b[32m━━━━━━━━━━━━━━━━━\u001b[0m\u001b[37m━━━\u001b[0m \u001b[1m0s\u001b[0m 4ms/step - accuracy: 0.5928 - loss: 0.9703 \n",
      "Epoch 55: loss improved from 0.96173 to 0.96170, saving model to model_checkpoint.keras\n",
      "\u001b[1m16/16\u001b[0m \u001b[32m━━━━━━━━━━━━━━━━━━━━\u001b[0m\u001b[37m\u001b[0m \u001b[1m0s\u001b[0m 22ms/step - accuracy: 0.5912 - loss: 0.9688 - val_accuracy: 0.4414 - val_loss: 1.0152 - learning_rate: 1.5625e-05\n",
      "Epoch 56/100\n",
      "\u001b[1m 1/16\u001b[0m \u001b[32m━\u001b[0m\u001b[37m━━━━━━━━━━━━━━━━━━━\u001b[0m \u001b[1m0s\u001b[0m 56ms/step - accuracy: 0.6562 - loss: 0.9526\n",
      "Epoch 56: loss improved from 0.96170 to 0.96166, saving model to model_checkpoint.keras\n",
      "\u001b[1m16/16\u001b[0m \u001b[32m━━━━━━━━━━━━━━━━━━━━\u001b[0m\u001b[37m\u001b[0m \u001b[1m0s\u001b[0m 21ms/step - accuracy: 0.5912 - loss: 0.9687 - val_accuracy: 0.4414 - val_loss: 1.0152 - learning_rate: 1.5625e-05\n",
      "Epoch 57/100\n",
      "\u001b[1m12/16\u001b[0m \u001b[32m━━━━━━━━━━━━━━━\u001b[0m\u001b[37m━━━━━\u001b[0m \u001b[1m0s\u001b[0m 5ms/step - accuracy: 0.5938 - loss: 0.9720 \n",
      "Epoch 57: loss improved from 0.96166 to 0.96163, saving model to model_checkpoint.keras\n",
      "\u001b[1m16/16\u001b[0m \u001b[32m━━━━━━━━━━━━━━━━━━━━\u001b[0m\u001b[37m\u001b[0m \u001b[1m0s\u001b[0m 24ms/step - accuracy: 0.5912 - loss: 0.9687 - val_accuracy: 0.4459 - val_loss: 1.0151 - learning_rate: 1.5625e-05\n",
      "Epoch 58/100\n",
      "\u001b[1m11/16\u001b[0m \u001b[32m━━━━━━━━━━━━━\u001b[0m\u001b[37m━━━━━━━\u001b[0m \u001b[1m0s\u001b[0m 5ms/step - accuracy: 0.5943 - loss: 0.9732 \n",
      "Epoch 58: loss improved from 0.96163 to 0.96159, saving model to model_checkpoint.keras\n",
      "\u001b[1m16/16\u001b[0m \u001b[32m━━━━━━━━━━━━━━━━━━━━\u001b[0m\u001b[37m\u001b[0m \u001b[1m0s\u001b[0m 26ms/step - accuracy: 0.5912 - loss: 0.9687 - val_accuracy: 0.4459 - val_loss: 1.0151 - learning_rate: 1.5625e-05\n",
      "Epoch 59/100\n",
      "\u001b[1m12/16\u001b[0m \u001b[32m━━━━━━━━━━━━━━━\u001b[0m\u001b[37m━━━━━\u001b[0m \u001b[1m0s\u001b[0m 5ms/step - accuracy: 0.5938 - loss: 0.9719 \n",
      "Epoch 59: loss improved from 0.96159 to 0.96156, saving model to model_checkpoint.keras\n",
      "\u001b[1m16/16\u001b[0m \u001b[32m━━━━━━━━━━━━━━━━━━━━\u001b[0m\u001b[37m\u001b[0m \u001b[1m0s\u001b[0m 23ms/step - accuracy: 0.5912 - loss: 0.9686 - val_accuracy: 0.4459 - val_loss: 1.0150 - learning_rate: 1.5625e-05\n",
      "Epoch 60/100\n",
      "\u001b[1m14/16\u001b[0m \u001b[32m━━━━━━━━━━━━━━━━━\u001b[0m\u001b[37m━━━\u001b[0m \u001b[1m0s\u001b[0m 4ms/step - accuracy: 0.5928 - loss: 0.9702 \n",
      "Epoch 60: loss improved from 0.96156 to 0.96152, saving model to model_checkpoint.keras\n",
      "\u001b[1m16/16\u001b[0m \u001b[32m━━━━━━━━━━━━━━━━━━━━\u001b[0m\u001b[37m\u001b[0m \u001b[1m0s\u001b[0m 23ms/step - accuracy: 0.5912 - loss: 0.9686 - val_accuracy: 0.4459 - val_loss: 1.0150 - learning_rate: 1.5625e-05\n",
      "Epoch 61/100\n",
      "\u001b[1m12/16\u001b[0m \u001b[32m━━━━━━━━━━━━━━━\u001b[0m\u001b[37m━━━━━\u001b[0m \u001b[1m0s\u001b[0m 5ms/step - accuracy: 0.5938 - loss: 0.9719 \n",
      "Epoch 61: loss improved from 0.96152 to 0.96149, saving model to model_checkpoint.keras\n",
      "\u001b[1m16/16\u001b[0m \u001b[32m━━━━━━━━━━━━━━━━━━━━\u001b[0m\u001b[37m\u001b[0m \u001b[1m0s\u001b[0m 25ms/step - accuracy: 0.5912 - loss: 0.9686 - val_accuracy: 0.4459 - val_loss: 1.0149 - learning_rate: 1.5625e-05\n",
      "Epoch 62/100\n",
      "\u001b[1m10/16\u001b[0m \u001b[32m━━━━━━━━━━━━\u001b[0m\u001b[37m━━━━━━━━\u001b[0m \u001b[1m0s\u001b[0m 6ms/step - accuracy: 0.5952 - loss: 0.9741 \n",
      "Epoch 62: loss improved from 0.96149 to 0.96146, saving model to model_checkpoint.keras\n",
      "\u001b[1m16/16\u001b[0m \u001b[32m━━━━━━━━━━━━━━━━━━━━\u001b[0m\u001b[37m\u001b[0m \u001b[1m0s\u001b[0m 23ms/step - accuracy: 0.5912 - loss: 0.9685 - val_accuracy: 0.4459 - val_loss: 1.0148 - learning_rate: 1.5625e-05\n",
      "Epoch 63/100\n",
      "\u001b[1m11/16\u001b[0m \u001b[32m━━━━━━━━━━━━━\u001b[0m\u001b[37m━━━━━━━\u001b[0m \u001b[1m0s\u001b[0m 5ms/step - accuracy: 0.5943 - loss: 0.9730 \n",
      "Epoch 63: loss improved from 0.96146 to 0.96142, saving model to model_checkpoint.keras\n",
      "\u001b[1m16/16\u001b[0m \u001b[32m━━━━━━━━━━━━━━━━━━━━\u001b[0m\u001b[37m\u001b[0m \u001b[1m0s\u001b[0m 25ms/step - accuracy: 0.5912 - loss: 0.9685 - val_accuracy: 0.4459 - val_loss: 1.0148 - learning_rate: 1.5625e-05\n",
      "Epoch 64/100\n",
      "\u001b[1m 1/16\u001b[0m \u001b[32m━\u001b[0m\u001b[37m━━━━━━━━━━━━━━━━━━━\u001b[0m \u001b[1m0s\u001b[0m 55ms/step - accuracy: 0.6562 - loss: 0.9523\n",
      "Epoch 64: loss improved from 0.96142 to 0.96138, saving model to model_checkpoint.keras\n",
      "\u001b[1m16/16\u001b[0m \u001b[32m━━━━━━━━━━━━━━━━━━━━\u001b[0m\u001b[37m\u001b[0m \u001b[1m0s\u001b[0m 21ms/step - accuracy: 0.5912 - loss: 0.9685 - val_accuracy: 0.4459 - val_loss: 1.0147 - learning_rate: 1.5625e-05\n",
      "Epoch 65/100\n",
      "\u001b[1m12/16\u001b[0m \u001b[32m━━━━━━━━━━━━━━━\u001b[0m\u001b[37m━━━━━\u001b[0m \u001b[1m0s\u001b[0m 5ms/step - accuracy: 0.5938 - loss: 0.9718 \n",
      "Epoch 65: loss improved from 0.96138 to 0.96135, saving model to model_checkpoint.keras\n",
      "\u001b[1m16/16\u001b[0m \u001b[32m━━━━━━━━━━━━━━━━━━━━\u001b[0m\u001b[37m\u001b[0m \u001b[1m0s\u001b[0m 23ms/step - accuracy: 0.5912 - loss: 0.9684 - val_accuracy: 0.4459 - val_loss: 1.0147 - learning_rate: 1.5625e-05\n",
      "Epoch 66/100\n",
      "\u001b[1m16/16\u001b[0m \u001b[32m━━━━━━━━━━━━━━━━━━━━\u001b[0m\u001b[37m\u001b[0m \u001b[1m0s\u001b[0m 4ms/step - accuracy: 0.5917 - loss: 0.9688 \n",
      "Epoch 66: loss improved from 0.96135 to 0.96131, saving model to model_checkpoint.keras\n",
      "\u001b[1m16/16\u001b[0m \u001b[32m━━━━━━━━━━━━━━━━━━━━\u001b[0m\u001b[37m\u001b[0m \u001b[1m0s\u001b[0m 22ms/step - accuracy: 0.5912 - loss: 0.9684 - val_accuracy: 0.4459 - val_loss: 1.0146 - learning_rate: 1.5625e-05\n",
      "Epoch 67/100\n",
      "\u001b[1m13/16\u001b[0m \u001b[32m━━━━━━━━━━━━━━━━\u001b[0m\u001b[37m━━━━\u001b[0m \u001b[1m0s\u001b[0m 4ms/step - accuracy: 0.5941 - loss: 0.9708 \n",
      "Epoch 67: loss improved from 0.96131 to 0.96128, saving model to model_checkpoint.keras\n",
      "\u001b[1m16/16\u001b[0m \u001b[32m━━━━━━━━━━━━━━━━━━━━\u001b[0m\u001b[37m\u001b[0m \u001b[1m0s\u001b[0m 25ms/step - accuracy: 0.5924 - loss: 0.9684 - val_accuracy: 0.4459 - val_loss: 1.0146 - learning_rate: 1.5625e-05\n",
      "Epoch 68/100\n",
      "\u001b[1m 1/16\u001b[0m \u001b[32m━\u001b[0m\u001b[37m━━━━━━━━━━━━━━━━━━━\u001b[0m \u001b[1m0s\u001b[0m 65ms/step - accuracy: 0.6562 - loss: 0.9521\n",
      "Epoch 68: loss improved from 0.96128 to 0.96124, saving model to model_checkpoint.keras\n",
      "\u001b[1m16/16\u001b[0m \u001b[32m━━━━━━━━━━━━━━━━━━━━\u001b[0m\u001b[37m\u001b[0m \u001b[1m0s\u001b[0m 24ms/step - accuracy: 0.5924 - loss: 0.9683 - val_accuracy: 0.4505 - val_loss: 1.0145 - learning_rate: 1.5625e-05\n",
      "Epoch 69/100\n",
      "\u001b[1m 1/16\u001b[0m \u001b[32m━\u001b[0m\u001b[37m━━━━━━━━━━━━━━━━━━━\u001b[0m \u001b[1m0s\u001b[0m 62ms/step - accuracy: 0.6562 - loss: 0.9521\n",
      "Epoch 69: loss improved from 0.96124 to 0.96120, saving model to model_checkpoint.keras\n",
      "\u001b[1m16/16\u001b[0m \u001b[32m━━━━━━━━━━━━━━━━━━━━\u001b[0m\u001b[37m\u001b[0m \u001b[1m0s\u001b[0m 22ms/step - accuracy: 0.5924 - loss: 0.9683 - val_accuracy: 0.4505 - val_loss: 1.0144 - learning_rate: 1.5625e-05\n",
      "Epoch 70/100\n",
      "\u001b[1m12/16\u001b[0m \u001b[32m━━━━━━━━━━━━━━━\u001b[0m\u001b[37m━━━━━\u001b[0m \u001b[1m0s\u001b[0m 5ms/step - accuracy: 0.5945 - loss: 0.9716 \n",
      "Epoch 70: loss improved from 0.96120 to 0.96117, saving model to model_checkpoint.keras\n",
      "\u001b[1m16/16\u001b[0m \u001b[32m━━━━━━━━━━━━━━━━━━━━\u001b[0m\u001b[37m\u001b[0m \u001b[1m0s\u001b[0m 25ms/step - accuracy: 0.5924 - loss: 0.9683 - val_accuracy: 0.4505 - val_loss: 1.0144 - learning_rate: 1.5625e-05\n",
      "Epoch 71/100\n",
      "\u001b[1m13/16\u001b[0m \u001b[32m━━━━━━━━━━━━━━━━\u001b[0m\u001b[37m━━━━\u001b[0m \u001b[1m0s\u001b[0m 4ms/step - accuracy: 0.5941 - loss: 0.9707 \n",
      "Epoch 71: loss improved from 0.96117 to 0.96113, saving model to model_checkpoint.keras\n",
      "\u001b[1m16/16\u001b[0m \u001b[32m━━━━━━━━━━━━━━━━━━━━\u001b[0m\u001b[37m\u001b[0m \u001b[1m0s\u001b[0m 20ms/step - accuracy: 0.5924 - loss: 0.9682 - val_accuracy: 0.4505 - val_loss: 1.0143 - learning_rate: 1.5625e-05\n",
      "Epoch 72/100\n",
      "\u001b[1m 1/16\u001b[0m \u001b[32m━\u001b[0m\u001b[37m━━━━━━━━━━━━━━━━━━━\u001b[0m \u001b[1m0s\u001b[0m 53ms/step - accuracy: 0.6562 - loss: 0.9519\n",
      "Epoch 72: loss improved from 0.96113 to 0.96109, saving model to model_checkpoint.keras\n",
      "\u001b[1m16/16\u001b[0m \u001b[32m━━━━━━━━━━━━━━━━━━━━\u001b[0m\u001b[37m\u001b[0m \u001b[1m0s\u001b[0m 22ms/step - accuracy: 0.5924 - loss: 0.9682 - val_accuracy: 0.4505 - val_loss: 1.0143 - learning_rate: 1.5625e-05\n",
      "Epoch 73/100\n",
      "\u001b[1m11/16\u001b[0m \u001b[32m━━━━━━━━━━━━━\u001b[0m\u001b[37m━━━━━━━\u001b[0m \u001b[1m0s\u001b[0m 5ms/step - accuracy: 0.5948 - loss: 0.9727 \n",
      "Epoch 73: loss improved from 0.96109 to 0.96106, saving model to model_checkpoint.keras\n",
      "\u001b[1m16/16\u001b[0m \u001b[32m━━━━━━━━━━━━━━━━━━━━\u001b[0m\u001b[37m\u001b[0m \u001b[1m0s\u001b[0m 25ms/step - accuracy: 0.5924 - loss: 0.9682 - val_accuracy: 0.4505 - val_loss: 1.0142 - learning_rate: 1.5625e-05\n",
      "Epoch 74/100\n",
      "\u001b[1m12/16\u001b[0m \u001b[32m━━━━━━━━━━━━━━━\u001b[0m\u001b[37m━━━━━\u001b[0m \u001b[1m0s\u001b[0m 5ms/step - accuracy: 0.5945 - loss: 0.9715 \n",
      "Epoch 74: loss improved from 0.96106 to 0.96102, saving model to model_checkpoint.keras\n",
      "\u001b[1m16/16\u001b[0m \u001b[32m━━━━━━━━━━━━━━━━━━━━\u001b[0m\u001b[37m\u001b[0m \u001b[1m0s\u001b[0m 22ms/step - accuracy: 0.5924 - loss: 0.9681 - val_accuracy: 0.4505 - val_loss: 1.0141 - learning_rate: 1.5625e-05\n",
      "Epoch 75/100\n",
      "\u001b[1m 1/16\u001b[0m \u001b[32m━\u001b[0m\u001b[37m━━━━━━━━━━━━━━━━━━━\u001b[0m \u001b[1m0s\u001b[0m 57ms/step - accuracy: 0.6562 - loss: 0.9518\n",
      "Epoch 75: loss improved from 0.96102 to 0.96098, saving model to model_checkpoint.keras\n",
      "\u001b[1m16/16\u001b[0m \u001b[32m━━━━━━━━━━━━━━━━━━━━\u001b[0m\u001b[37m\u001b[0m \u001b[1m0s\u001b[0m 23ms/step - accuracy: 0.5924 - loss: 0.9681 - val_accuracy: 0.4505 - val_loss: 1.0141 - learning_rate: 1.5625e-05\n",
      "Epoch 76/100\n",
      "\u001b[1m10/16\u001b[0m \u001b[32m━━━━━━━━━━━━\u001b[0m\u001b[37m━━━━━━━━\u001b[0m \u001b[1m0s\u001b[0m 8ms/step - accuracy: 0.5955 - loss: 0.9737 \n",
      "Epoch 76: loss improved from 0.96098 to 0.96094, saving model to model_checkpoint.keras\n",
      "\u001b[1m16/16\u001b[0m \u001b[32m━━━━━━━━━━━━━━━━━━━━\u001b[0m\u001b[37m\u001b[0m \u001b[1m0s\u001b[0m 25ms/step - accuracy: 0.5924 - loss: 0.9681 - val_accuracy: 0.4505 - val_loss: 1.0140 - learning_rate: 1.5625e-05\n",
      "Epoch 77/100\n",
      "\u001b[1m13/16\u001b[0m \u001b[32m━━━━━━━━━━━━━━━━\u001b[0m\u001b[37m━━━━\u001b[0m \u001b[1m0s\u001b[0m 4ms/step - accuracy: 0.5941 - loss: 0.9705 \n",
      "Epoch 77: loss improved from 0.96094 to 0.96091, saving model to model_checkpoint.keras\n",
      "\u001b[1m16/16\u001b[0m \u001b[32m━━━━━━━━━━━━━━━━━━━━\u001b[0m\u001b[37m\u001b[0m \u001b[1m0s\u001b[0m 23ms/step - accuracy: 0.5924 - loss: 0.9680 - val_accuracy: 0.4505 - val_loss: 1.0139 - learning_rate: 1.5625e-05\n",
      "Epoch 78/100\n",
      "\u001b[1m11/16\u001b[0m \u001b[32m━━━━━━━━━━━━━\u001b[0m\u001b[37m━━━━━━━\u001b[0m \u001b[1m0s\u001b[0m 5ms/step - accuracy: 0.5948 - loss: 0.9726 \n",
      "Epoch 78: loss improved from 0.96091 to 0.96087, saving model to model_checkpoint.keras\n",
      "\u001b[1m16/16\u001b[0m \u001b[32m━━━━━━━━━━━━━━━━━━━━\u001b[0m\u001b[37m\u001b[0m \u001b[1m0s\u001b[0m 25ms/step - accuracy: 0.5924 - loss: 0.9680 - val_accuracy: 0.4505 - val_loss: 1.0139 - learning_rate: 1.5625e-05\n",
      "Epoch 79/100\n",
      "\u001b[1m 1/16\u001b[0m \u001b[32m━\u001b[0m\u001b[37m━━━━━━━━━━━━━━━━━━━\u001b[0m \u001b[1m0s\u001b[0m 62ms/step - accuracy: 0.6562 - loss: 0.9517\n",
      "Epoch 79: loss improved from 0.96087 to 0.96083, saving model to model_checkpoint.keras\n",
      "\u001b[1m16/16\u001b[0m \u001b[32m━━━━━━━━━━━━━━━━━━━━\u001b[0m\u001b[37m\u001b[0m \u001b[1m0s\u001b[0m 24ms/step - accuracy: 0.5924 - loss: 0.9680 - val_accuracy: 0.4550 - val_loss: 1.0138 - learning_rate: 1.5625e-05\n",
      "Epoch 80/100\n",
      "\u001b[1m 1/16\u001b[0m \u001b[32m━\u001b[0m\u001b[37m━━━━━━━━━━━━━━━━━━━\u001b[0m \u001b[1m1s\u001b[0m 67ms/step - accuracy: 0.6562 - loss: 0.9516\n",
      "Epoch 80: loss improved from 0.96083 to 0.96079, saving model to model_checkpoint.keras\n",
      "\u001b[1m16/16\u001b[0m \u001b[32m━━━━━━━━━━━━━━━━━━━━\u001b[0m\u001b[37m\u001b[0m \u001b[1m0s\u001b[0m 21ms/step - accuracy: 0.5924 - loss: 0.9679 - val_accuracy: 0.4550 - val_loss: 1.0137 - learning_rate: 1.5625e-05\n",
      "Epoch 81/100\n",
      "\u001b[1m 9/16\u001b[0m \u001b[32m━━━━━━━━━━━\u001b[0m\u001b[37m━━━━━━━━━\u001b[0m \u001b[1m0s\u001b[0m 7ms/step - accuracy: 0.5964 - loss: 0.9745 \n",
      "Epoch 81: loss improved from 0.96079 to 0.96076, saving model to model_checkpoint.keras\n",
      "\u001b[1m16/16\u001b[0m \u001b[32m━━━━━━━━━━━━━━━━━━━━\u001b[0m\u001b[37m\u001b[0m \u001b[1m0s\u001b[0m 24ms/step - accuracy: 0.5924 - loss: 0.9679 - val_accuracy: 0.4550 - val_loss: 1.0137 - learning_rate: 1.5625e-05\n",
      "Epoch 82/100\n",
      "\u001b[1m13/16\u001b[0m \u001b[32m━━━━━━━━━━━━━━━━\u001b[0m\u001b[37m━━━━\u001b[0m \u001b[1m0s\u001b[0m 4ms/step - accuracy: 0.5941 - loss: 0.9703 \n",
      "Epoch 82: loss improved from 0.96076 to 0.96072, saving model to model_checkpoint.keras\n",
      "\u001b[1m16/16\u001b[0m \u001b[32m━━━━━━━━━━━━━━━━━━━━\u001b[0m\u001b[37m\u001b[0m \u001b[1m0s\u001b[0m 22ms/step - accuracy: 0.5924 - loss: 0.9679 - val_accuracy: 0.4550 - val_loss: 1.0136 - learning_rate: 1.5625e-05\n",
      "Epoch 83/100\n",
      "\u001b[1m 1/16\u001b[0m \u001b[32m━\u001b[0m\u001b[37m━━━━━━━━━━━━━━━━━━━\u001b[0m \u001b[1m0s\u001b[0m 65ms/step - accuracy: 0.6562 - loss: 0.9515\n",
      "Epoch 83: loss improved from 0.96072 to 0.96068, saving model to model_checkpoint.keras\n",
      "\u001b[1m16/16\u001b[0m \u001b[32m━━━━━━━━━━━━━━━━━━━━\u001b[0m\u001b[37m\u001b[0m \u001b[1m0s\u001b[0m 21ms/step - accuracy: 0.5924 - loss: 0.9678 - val_accuracy: 0.4550 - val_loss: 1.0136 - learning_rate: 1.5625e-05\n",
      "Epoch 84/100\n",
      "\u001b[1m15/16\u001b[0m \u001b[32m━━━━━━━━━━━━━━━━━━\u001b[0m\u001b[37m━━\u001b[0m \u001b[1m0s\u001b[0m 4ms/step - accuracy: 0.5933 - loss: 0.9687 \n",
      "Epoch 84: loss improved from 0.96068 to 0.96064, saving model to model_checkpoint.keras\n",
      "\u001b[1m16/16\u001b[0m \u001b[32m━━━━━━━━━━━━━━━━━━━━\u001b[0m\u001b[37m\u001b[0m \u001b[1m0s\u001b[0m 23ms/step - accuracy: 0.5924 - loss: 0.9678 - val_accuracy: 0.4550 - val_loss: 1.0135 - learning_rate: 1.5625e-05\n",
      "Epoch 85/100\n",
      "\u001b[1m12/16\u001b[0m \u001b[32m━━━━━━━━━━━━━━━\u001b[0m\u001b[37m━━━━━\u001b[0m \u001b[1m0s\u001b[0m 5ms/step - accuracy: 0.5945 - loss: 0.9711 \n",
      "Epoch 85: loss improved from 0.96064 to 0.96060, saving model to model_checkpoint.keras\n",
      "\u001b[1m16/16\u001b[0m \u001b[32m━━━━━━━━━━━━━━━━━━━━\u001b[0m\u001b[37m\u001b[0m \u001b[1m0s\u001b[0m 24ms/step - accuracy: 0.5924 - loss: 0.9677 - val_accuracy: 0.4550 - val_loss: 1.0134 - learning_rate: 1.5625e-05\n",
      "Epoch 86/100\n",
      "\u001b[1m10/16\u001b[0m \u001b[32m━━━━━━━━━━━━\u001b[0m\u001b[37m━━━━━━━━\u001b[0m \u001b[1m0s\u001b[0m 6ms/step - accuracy: 0.5955 - loss: 0.9734 \n",
      "Epoch 86: loss improved from 0.96060 to 0.96057, saving model to model_checkpoint.keras\n",
      "\u001b[1m16/16\u001b[0m \u001b[32m━━━━━━━━━━━━━━━━━━━━\u001b[0m\u001b[37m\u001b[0m \u001b[1m0s\u001b[0m 24ms/step - accuracy: 0.5924 - loss: 0.9677 - val_accuracy: 0.4550 - val_loss: 1.0134 - learning_rate: 1.5625e-05\n",
      "Epoch 87/100\n",
      "\u001b[1m12/16\u001b[0m \u001b[32m━━━━━━━━━━━━━━━\u001b[0m\u001b[37m━━━━━\u001b[0m \u001b[1m0s\u001b[0m 5ms/step - accuracy: 0.5945 - loss: 0.9710 \n",
      "Epoch 87: loss improved from 0.96057 to 0.96053, saving model to model_checkpoint.keras\n",
      "\u001b[1m16/16\u001b[0m \u001b[32m━━━━━━━━━━━━━━━━━━━━\u001b[0m\u001b[37m\u001b[0m \u001b[1m0s\u001b[0m 23ms/step - accuracy: 0.5924 - loss: 0.9677 - val_accuracy: 0.4550 - val_loss: 1.0133 - learning_rate: 1.5625e-05\n",
      "Epoch 88/100\n",
      "\u001b[1m13/16\u001b[0m \u001b[32m━━━━━━━━━━━━━━━━\u001b[0m\u001b[37m━━━━\u001b[0m \u001b[1m0s\u001b[0m 4ms/step - accuracy: 0.5941 - loss: 0.9701 \n",
      "Epoch 88: loss improved from 0.96053 to 0.96049, saving model to model_checkpoint.keras\n",
      "\u001b[1m16/16\u001b[0m \u001b[32m━━━━━━━━━━━━━━━━━━━━\u001b[0m\u001b[37m\u001b[0m \u001b[1m0s\u001b[0m 24ms/step - accuracy: 0.5924 - loss: 0.9676 - val_accuracy: 0.4550 - val_loss: 1.0132 - learning_rate: 1.5625e-05\n",
      "Epoch 89/100\n",
      "\u001b[1m13/16\u001b[0m \u001b[32m━━━━━━━━━━━━━━━━\u001b[0m\u001b[37m━━━━\u001b[0m \u001b[1m0s\u001b[0m 4ms/step - accuracy: 0.5941 - loss: 0.9700 \n",
      "Epoch 89: loss improved from 0.96049 to 0.96045, saving model to model_checkpoint.keras\n",
      "\u001b[1m16/16\u001b[0m \u001b[32m━━━━━━━━━━━━━━━━━━━━\u001b[0m\u001b[37m\u001b[0m \u001b[1m0s\u001b[0m 24ms/step - accuracy: 0.5924 - loss: 0.9676 - val_accuracy: 0.4550 - val_loss: 1.0132 - learning_rate: 1.5625e-05\n",
      "Epoch 90/100\n",
      "\u001b[1m 1/16\u001b[0m \u001b[32m━\u001b[0m\u001b[37m━━━━━━━━━━━━━━━━━━━\u001b[0m \u001b[1m0s\u001b[0m 65ms/step - accuracy: 0.6562 - loss: 0.9512\n",
      "Epoch 90: loss improved from 0.96045 to 0.96041, saving model to model_checkpoint.keras\n",
      "\u001b[1m16/16\u001b[0m \u001b[32m━━━━━━━━━━━━━━━━━━━━\u001b[0m\u001b[37m\u001b[0m \u001b[1m0s\u001b[0m 20ms/step - accuracy: 0.5924 - loss: 0.9676 - val_accuracy: 0.4550 - val_loss: 1.0131 - learning_rate: 1.5625e-05\n",
      "Epoch 91/100\n",
      "\u001b[1m13/16\u001b[0m \u001b[32m━━━━━━━━━━━━━━━━\u001b[0m\u001b[37m━━━━\u001b[0m \u001b[1m0s\u001b[0m 4ms/step - accuracy: 0.5941 - loss: 0.9700 \n",
      "Epoch 91: loss improved from 0.96041 to 0.96037, saving model to model_checkpoint.keras\n",
      "\u001b[1m16/16\u001b[0m \u001b[32m━━━━━━━━━━━━━━━━━━━━\u001b[0m\u001b[37m\u001b[0m \u001b[1m0s\u001b[0m 23ms/step - accuracy: 0.5924 - loss: 0.9675 - val_accuracy: 0.4550 - val_loss: 1.0130 - learning_rate: 1.5625e-05\n",
      "Epoch 92/100\n",
      "\u001b[1m14/16\u001b[0m \u001b[32m━━━━━━━━━━━━━━━━━\u001b[0m\u001b[37m━━━\u001b[0m \u001b[1m0s\u001b[0m 4ms/step - accuracy: 0.5887 - loss: 0.9691 \n",
      "Epoch 92: loss improved from 0.96037 to 0.96033, saving model to model_checkpoint.keras\n",
      "\u001b[1m16/16\u001b[0m \u001b[32m━━━━━━━━━━━━━━━━━━━━\u001b[0m\u001b[37m\u001b[0m \u001b[1m0s\u001b[0m 23ms/step - accuracy: 0.5879 - loss: 0.9675 - val_accuracy: 0.4550 - val_loss: 1.0130 - learning_rate: 1.5625e-05\n",
      "Epoch 93/100\n",
      "\u001b[1m 1/16\u001b[0m \u001b[32m━\u001b[0m\u001b[37m━━━━━━━━━━━━━━━━━━━\u001b[0m \u001b[1m1s\u001b[0m 69ms/step - accuracy: 0.6562 - loss: 0.9511\n",
      "Epoch 93: loss improved from 0.96033 to 0.96029, saving model to model_checkpoint.keras\n",
      "\u001b[1m16/16\u001b[0m \u001b[32m━━━━━━━━━━━━━━━━━━━━\u001b[0m\u001b[37m\u001b[0m \u001b[1m0s\u001b[0m 21ms/step - accuracy: 0.5879 - loss: 0.9675 - val_accuracy: 0.4550 - val_loss: 1.0129 - learning_rate: 1.5625e-05\n",
      "Epoch 94/100\n",
      "\u001b[1m12/16\u001b[0m \u001b[32m━━━━━━━━━━━━━━━\u001b[0m\u001b[37m━━━━━\u001b[0m \u001b[1m0s\u001b[0m 5ms/step - accuracy: 0.5885 - loss: 0.9708 \n",
      "Epoch 94: loss improved from 0.96029 to 0.96025, saving model to model_checkpoint.keras\n",
      "\u001b[1m16/16\u001b[0m \u001b[32m━━━━━━━━━━━━━━━━━━━━\u001b[0m\u001b[37m\u001b[0m \u001b[1m0s\u001b[0m 23ms/step - accuracy: 0.5875 - loss: 0.9674 - val_accuracy: 0.4550 - val_loss: 1.0128 - learning_rate: 1.5625e-05\n",
      "Epoch 95/100\n",
      "\u001b[1m 1/16\u001b[0m \u001b[32m━\u001b[0m\u001b[37m━━━━━━━━━━━━━━━━━━━\u001b[0m \u001b[1m0s\u001b[0m 50ms/step - accuracy: 0.6562 - loss: 0.9511\n",
      "Epoch 95: loss improved from 0.96025 to 0.96022, saving model to model_checkpoint.keras\n",
      "\u001b[1m16/16\u001b[0m \u001b[32m━━━━━━━━━━━━━━━━━━━━\u001b[0m\u001b[37m\u001b[0m \u001b[1m0s\u001b[0m 22ms/step - accuracy: 0.5875 - loss: 0.9674 - val_accuracy: 0.4550 - val_loss: 1.0127 - learning_rate: 1.5625e-05\n",
      "Epoch 96/100\n",
      "\u001b[1m12/16\u001b[0m \u001b[32m━━━━━━━━━━━━━━━\u001b[0m\u001b[37m━━━━━\u001b[0m \u001b[1m0s\u001b[0m 5ms/step - accuracy: 0.5885 - loss: 0.9707 \n",
      "Epoch 96: loss improved from 0.96022 to 0.96018, saving model to model_checkpoint.keras\n",
      "\u001b[1m16/16\u001b[0m \u001b[32m━━━━━━━━━━━━━━━━━━━━\u001b[0m\u001b[37m\u001b[0m \u001b[1m0s\u001b[0m 23ms/step - accuracy: 0.5875 - loss: 0.9673 - val_accuracy: 0.4550 - val_loss: 1.0127 - learning_rate: 1.5625e-05\n",
      "Epoch 97/100\n",
      "\u001b[1m 1/16\u001b[0m \u001b[32m━\u001b[0m\u001b[37m━━━━━━━━━━━━━━━━━━━\u001b[0m \u001b[1m1s\u001b[0m 70ms/step - accuracy: 0.6562 - loss: 0.9510\n",
      "Epoch 97: loss improved from 0.96018 to 0.96014, saving model to model_checkpoint.keras\n",
      "\u001b[1m16/16\u001b[0m \u001b[32m━━━━━━━━━━━━━━━━━━━━\u001b[0m\u001b[37m\u001b[0m \u001b[1m0s\u001b[0m 21ms/step - accuracy: 0.5875 - loss: 0.9673 - val_accuracy: 0.4550 - val_loss: 1.0126 - learning_rate: 1.5625e-05\n",
      "Epoch 98/100\n",
      "\u001b[1m 1/16\u001b[0m \u001b[32m━\u001b[0m\u001b[37m━━━━━━━━━━━━━━━━━━━\u001b[0m \u001b[1m1s\u001b[0m 70ms/step - accuracy: 0.6562 - loss: 0.9509\n",
      "Epoch 98: loss improved from 0.96014 to 0.96010, saving model to model_checkpoint.keras\n",
      "\u001b[1m16/16\u001b[0m \u001b[32m━━━━━━━━━━━━━━━━━━━━\u001b[0m\u001b[37m\u001b[0m \u001b[1m0s\u001b[0m 25ms/step - accuracy: 0.5875 - loss: 0.9673 - val_accuracy: 0.4550 - val_loss: 1.0125 - learning_rate: 1.5625e-05\n",
      "Epoch 99/100\n",
      "\u001b[1m13/16\u001b[0m \u001b[32m━━━━━━━━━━━━━━━━\u001b[0m\u001b[37m━━━━\u001b[0m \u001b[1m0s\u001b[0m 4ms/step - accuracy: 0.5883 - loss: 0.9697 \n",
      "Epoch 99: loss improved from 0.96010 to 0.96006, saving model to model_checkpoint.keras\n",
      "\u001b[1m16/16\u001b[0m \u001b[32m━━━━━━━━━━━━━━━━━━━━\u001b[0m\u001b[37m\u001b[0m \u001b[1m0s\u001b[0m 24ms/step - accuracy: 0.5875 - loss: 0.9672 - val_accuracy: 0.4550 - val_loss: 1.0125 - learning_rate: 1.5625e-05\n",
      "Epoch 100/100\n",
      "\u001b[1m15/16\u001b[0m \u001b[32m━━━━━━━━━━━━━━━━━━\u001b[0m\u001b[37m━━\u001b[0m \u001b[1m0s\u001b[0m 4ms/step - accuracy: 0.5880 - loss: 0.9682 \n",
      "Epoch 100: loss improved from 0.96006 to 0.96002, saving model to model_checkpoint.keras\n",
      "\u001b[1m16/16\u001b[0m \u001b[32m━━━━━━━━━━━━━━━━━━━━\u001b[0m\u001b[37m\u001b[0m \u001b[1m0s\u001b[0m 23ms/step - accuracy: 0.5875 - loss: 0.9672 - val_accuracy: 0.4595 - val_loss: 1.0124 - learning_rate: 1.5625e-05\n"
     ]
    }
   ],
   "source": [
    "# Training the model\n",
    "reduce_lr = ReduceLROnPlateau(\n",
    "    monitor='loss',\n",
    "    factor=0.5,\n",
    "    patience=5,\n",
    "    min_lr=1e-6,\n",
    "    verbose=1\n",
    ")\n",
    "checkpoint = ModelCheckpoint(\n",
    "    filepath='model_checkpoint.keras',\n",
    "    monitor='loss',\n",
    "    save_best_only=True,\n",
    "    verbose=1\n",
    ")\n",
    "tensorboard = TensorBoard(log_dir=\"logs\", histogram_freq=1)\n",
    "csv_logger = CSVLogger('training_log.csv', append=True)\n",
    "history = model.fit(\n",
    "    X_train, y_train,\n",
    "    validation_data=(X_test, y_test),\n",
    "    epochs=noOfEpochs,  # Number of training epochs\n",
    "    batch_size=32,  # Mini-batch size\n",
    "    verbose=1,  # Display training progress\n",
    "    callbacks=[reduce_lr,checkpoint, csv_logger, tensorboard]\n",
    ")"
   ]
  },
  {
   "cell_type": "code",
   "execution_count": 54,
   "metadata": {
    "colab": {
     "base_uri": "https://localhost:8080/",
     "height": 472
    },
    "executionInfo": {
     "elapsed": 514,
     "status": "ok",
     "timestamp": 1733912535502,
     "user": {
      "displayName": "Archis Kulkarni",
      "userId": "16170159291860624587"
     },
     "user_tz": -330
    },
    "id": "e7zqMWccPZKn",
    "outputId": "e75b7ac5-44e5-4675-91b7-d7a6fb60b86e"
   },
   "outputs": [
    {
     "data": {
      "image/png": "[encoded data removed]",
      "text/plain": [
       "<Figure size 640x480 with 1 Axes>"
      ]
     },
     "metadata": {},
     "output_type": "display_data"
    }
   ],
   "source": [
    "plt.plot(history.history['loss'], label='Training Loss')\n",
    "# plt.plot(history.history['val_loss'], label='Validation Loss')\n",
    "plt.title('Model Loss')\n",
    "plt.xlabel('Epochs')\n",
    "plt.ylabel('Loss')\n",
    "plt.legend()\n",
    "plt.show()"
   ]
  },
  {
   "cell_type": "code",
   "execution_count": 55,
   "metadata": {},
   "outputs": [
    {
     "data": {
      "image/png": "[encoded data removed]",
      "text/plain": [
       "<Figure size 640x480 with 1 Axes>"
      ]
     },
     "metadata": {},
     "output_type": "display_data"
    }
   ],
   "source": [
    "plt.plot(history.history['val_loss'], label='Validation Loss')\n",
    "# plt.plot(history.history['val_loss'], label='Validation Loss')\n",
    "plt.title('Validation Loss')\n",
    "plt.xlabel('Epochs')\n",
    "plt.ylabel('Loss')\n",
    "plt.legend()\n",
    "plt.show()"
   ]
  },
  {
   "cell_type": "code",
   "execution_count": 56,
   "metadata": {
    "colab": {
     "base_uri": "https://localhost:8080/",
     "height": 472
    },
    "executionInfo": {
     "elapsed": 520,
     "status": "ok",
     "timestamp": 1733912554477,
     "user": {
      "displayName": "Archis Kulkarni",
      "userId": "16170159291860624587"
     },
     "user_tz": -330
    },
    "id": "NIy0kZoMPdk0",
    "outputId": "4d34fd78-31aa-4f95-d208-b026e33286ed"
   },
   "outputs": [
    {
     "data": {
      "image/png": "[encoded data removed]",
      "text/plain": [
       "<Figure size 640x480 with 1 Axes>"
      ]
     },
     "metadata": {},
     "output_type": "display_data"
    }
   ],
   "source": [
    "# Plot accuracy\n",
    "plt.plot(history.history['accuracy'], label='Training Accuracy')\n",
    "# plt.plot(history.history['val_accuracy'], label='Validation Accuracy')\n",
    "plt.title('Model Accuracy')\n",
    "plt.xlabel('Epochs')\n",
    "plt.ylabel('Accuracy')\n",
    "plt.legend()\n",
    "plt.show()"
   ]
  },
  {
   "cell_type": "code",
   "execution_count": 57,
   "metadata": {
    "id": "xUonRh6ePbs5"
   },
   "outputs": [
    {
     "data": {
      "image/png": "[encoded data removed]",
      "text/plain": [
       "<Figure size 640x480 with 1 Axes>"
      ]
     },
     "metadata": {},
     "output_type": "display_data"
    }
   ],
   "source": [
    "plt.plot(history.history['val_accuracy'], label='Testing Accuracy')\n",
    "# plt.plot(history.history['val_loss'], label='Validation Loss')\n",
    "plt.title('Validation Accuracy')\n",
    "plt.xlabel('Epochs')\n",
    "plt.ylabel('Accuracy')\n",
    "plt.legend()\n",
    "plt.show()"
   ]
  }
 ],
 "metadata": {
  "colab": {
   "authorship_tag": "ABX9TyP91hhJ28FwROy2OyGNQzxE",
   "provenance": []
  },
  "kernelspec": {
   "display_name": "Python 3 (ipykernel)",
   "language": "python",
   "name": "python3"
  },
  "language_info": {
   "codemirror_mode": {
    "name": "ipython",
    "version": 3
   },
   "file_extension": ".py",
   "mimetype": "text/x-python",
   "name": "python",
   "nbconvert_exporter": "python",
   "pygments_lexer": "ipython3",
   "version": "3.11.4"
  }
 },
 "nbformat": 4,
 "nbformat_minor": 4
}
